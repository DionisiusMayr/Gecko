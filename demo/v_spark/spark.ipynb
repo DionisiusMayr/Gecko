{
 "cells": [
  {
   "cell_type": "code",
   "execution_count": 2,
   "id": "51ce1c7a-518d-4807-87c3-3492c84d77ff",
   "metadata": {},
   "outputs": [],
   "source": [
    "from pyspark.sql import SparkSession, Row\n",
    "from pyspark.sql.functions import col, length, from_json, expr, split, lit, to_date, explode, count, lower, trim, regexp_replace\n",
    "from pyspark.sql.functions import substring, max as spark_max, ceil, input_file_name, from_unixtime, regexp_extract, concat\n",
    "from pyspark.sql.functions import udf\n",
    "from pyspark.sql.types import StringType, StructType, StructField, MapType, ArrayType, DoubleType, DateType, IntegerType"
   ]
  },
  {
   "cell_type": "code",
   "execution_count": 3,
   "id": "1c91417f-b56f-46c2-92f0-ca11a50ecda9",
   "metadata": {},
   "outputs": [],
   "source": [
    "import xml.etree.ElementTree as ET\n",
    "import requests\n",
    "import os\n",
    "import collections\n",
    "import time\n",
    "import html\n",
    "import json\n",
    "\n",
    "import pandas as pd\n",
    "import yake\n",
    "import numpy as np\n",
    "from tqdm import tqdm\n",
    "from graphdatascience import GraphDataScience"
   ]
  },
  {
   "cell_type": "code",
   "execution_count": 4,
   "id": "d0ef305d-6533-496e-84d8-f97d3bcc8776",
   "metadata": {},
   "outputs": [],
   "source": [
    "import utils"
   ]
  },
  {
   "cell_type": "code",
   "execution_count": 5,
   "id": "15ab211d-7ed4-4e16-8301-066b2549d07a",
   "metadata": {},
   "outputs": [],
   "source": [
    "AWS_ACCESS_KEY_ID = 'test_key_id'\n",
    "AWS_SECRET_ACCESS_KEY = 'test_access_key'\n",
    "HOST = 's3'\n",
    "ENDPOINT_URL = f'http://{HOST}:4566'\n",
    "\n",
    "TEMP_DIR = './local_data'\n",
    "DOWNLOAD_FROM_S3 = False"
   ]
  },
  {
   "cell_type": "code",
   "execution_count": 6,
   "id": "e3a09f6c-5799-4317-ae78-30c7152f45ba",
   "metadata": {},
   "outputs": [],
   "source": [
    "spark = (\n",
    "    SparkSession\n",
    "    .builder\n",
    "    .config(\"spark.jars.packages\", \"org.neo4j:neo4j-connector-apache-spark_2.12:5.3.0_for_spark_3\")\n",
    "    .getOrCreate()\n",
    ")"
   ]
  },
  {
   "cell_type": "markdown",
   "id": "ea9d6d00-b1f2-4767-a0b8-15e3fa0dbd96",
   "metadata": {},
   "source": [
    "# Collect data from S3"
   ]
  },
  {
   "cell_type": "code",
   "execution_count": 7,
   "id": "075e42ba-a87a-4d99-9719-bc4ea00a1883",
   "metadata": {},
   "outputs": [],
   "source": [
    "CONTENTS = ['movie', 'boardgame', 'videogame', 'anime']"
   ]
  },
  {
   "cell_type": "code",
   "execution_count": 8,
   "id": "4d8ad300-9823-40a2-bd4a-83f803a60af1",
   "metadata": {
    "scrolled": true
   },
   "outputs": [],
   "source": [
    "def download_raw_data_of_content(content):\n",
    "    print(f'Downloading raw-data of {content}...')\n",
    "    \n",
    "    target_dir = f\"{TEMP_DIR}/{content}\"\n",
    "    \n",
    "    if not os.path.exists(target_dir):\n",
    "        os.makedirs(target_dir)\n",
    "        \n",
    "    s3 = utils.S3_conn()\n",
    "\n",
    "    paginator = s3.s3_client.get_paginator('list_objects_v2')\n",
    "    page_iterator = paginator.paginate(Bucket='raw-data', Prefix=content)\n",
    "    for page in page_iterator:\n",
    "        if 'Contents' in page:\n",
    "            for obj in tqdm(page['Contents']):\n",
    "                key = obj['Key']\n",
    "                local_file_path = f'{target_dir}/{key[len(content) + 1:]}'# os.path.join(target_dir, key[len(kind):])\n",
    "                local_file_dir = os.path.dirname(local_file_path)\n",
    "                \n",
    "                if not os.path.exists(local_file_dir):\n",
    "                    os.makedirs(local_file_dir)\n",
    "                \n",
    "                s3.s3_client.download_file('raw-data', key, local_file_path)"
   ]
  },
  {
   "cell_type": "code",
   "execution_count": 9,
   "id": "f0fcf0c1-7e96-41d5-9e59-748d1e883be6",
   "metadata": {},
   "outputs": [
    {
     "name": "stdout",
     "output_type": "stream",
     "text": [
      "CPU times: user 1 µs, sys: 2 µs, total: 3 µs\n",
      "Wall time: 8.11 µs\n"
     ]
    }
   ],
   "source": [
    "%%time\n",
    "if DOWNLOAD_FROM_S3:\n",
    "    for content in CONTENTS:\n",
    "        download_raw_data_of_content(content)"
   ]
  },
  {
   "cell_type": "markdown",
   "id": "b853d745-744a-4313-a01c-ffe7901bed4b",
   "metadata": {},
   "source": [
    "# Transform data"
   ]
  },
  {
   "cell_type": "code",
   "execution_count": 10,
   "id": "202f783a-4317-4a14-a13d-8620f8747c5d",
   "metadata": {},
   "outputs": [],
   "source": [
    "s3 = utils.S3_conn()"
   ]
  },
  {
   "cell_type": "code",
   "execution_count": 11,
   "id": "75bea88f-cb36-4efa-9173-d423beee889e",
   "metadata": {},
   "outputs": [],
   "source": [
    "def store_processed_parquet(local_directory, prefix):\n",
    "    bucket_name = 'processed-data'\n",
    "    \n",
    "    for root, dirs, files in tqdm(os.walk(local_directory)):\n",
    "        for filename in files:\n",
    "            # Construct the full local path\n",
    "            local_path = os.path.join(root, filename)\n",
    "            \n",
    "            # Construct the relative path for S3\n",
    "            relative_path = os.path.relpath(local_path, local_directory)\n",
    "            s3_path = os.path.join(prefix, relative_path).replace(\"\\\\\", \"/\")  # Ensure Unix-style paths for S3\n",
    "            \n",
    "            # Upload the file to S3\n",
    "            s3.s3_client.upload_file(local_path, bucket_name, s3_path)"
   ]
  },
  {
   "cell_type": "markdown",
   "id": "ad06d713-5c41-4488-b880-70f67db856d5",
   "metadata": {},
   "source": [
    "## Boardgames"
   ]
  },
  {
   "cell_type": "code",
   "execution_count": 12,
   "id": "fdc5fcd0-6d6f-434b-bf0e-a0129a455734",
   "metadata": {},
   "outputs": [],
   "source": [
    "BOARDGAME_USERS_XML_PATH = './local_data/boardgame/collection'\n",
    "BOARDGAME_USERS_PARQUET_PATH = './local_data/boardgame/processed_data/boardgame_users.parquet'\n",
    "BOARDGAME_CONTENT_XML_PATH = './local_data/boardgame/boardgame'\n",
    "BOARDGAME_CONTENT_PARQUET_PATH = './local_data/boardgame/processed_data/boardgame_content.parquet'"
   ]
  },
  {
   "cell_type": "code",
   "execution_count": 13,
   "id": "8435fc23-0e3a-4a3d-9c57-721db3a057f9",
   "metadata": {},
   "outputs": [],
   "source": [
    "def xml_collection_to_dataframe(xml_file) -> pd.DataFrame:\n",
    "    with open(xml_file, 'r') as f:\n",
    "        r_text = f.read()\n",
    "        root = ET.fromstring(r_text)\n",
    "\n",
    "    df_user_id = []\n",
    "    df_type = []\n",
    "    df_content_id = []\n",
    "    df_rating = []\n",
    "    df_rating_date = []\n",
    "    \n",
    "    for bg in root:\n",
    "        bg_name = bg[0].text\n",
    "        coll_id = bg.attrib['collid']\n",
    "        object_id = bg.attrib['objectid']  # This is the boardgame identifier\n",
    "\n",
    "        rating_val = None\n",
    "        for field in bg:\n",
    "            if field.tag == 'stats':\n",
    "                rating_val = field[0].attrib['value']\n",
    "                if rating_val == 'N/A':\n",
    "                    rating_val = None\n",
    "            if field.tag == 'yearpublished':\n",
    "                year_published = field.text\n",
    "            if field.tag == 'status':\n",
    "                date_of_rating = field.attrib['lastmodified']  # Not really the rating date, but it is as close as possible with the current information.\n",
    "\n",
    "        df_user_id.append(xml_file.split('/')[-1][:-4])\n",
    "        df_type.append('boardgame')\n",
    "        df_content_id.append(object_id)\n",
    "        df_rating.append(rating_val)\n",
    "        df_rating_date.append(date_of_rating)\n",
    "\n",
    "    return pd.DataFrame({\n",
    "        'user_id': pd.Series(df_user_id, dtype='str'),\n",
    "        'type': pd.Series(df_type, dtype='category'),\n",
    "        'content_id': pd.Series(df_content_id, dtype='str'),\n",
    "        'rating': pd.Series(df_rating, dtype='float64'),\n",
    "        'rating_date': pd.Series(df_rating_date, dtype='datetime64[ms]')\n",
    "    })"
   ]
  },
  {
   "cell_type": "code",
   "execution_count": 14,
   "id": "5324700f-1612-462c-9197-d49d3e624d44",
   "metadata": {},
   "outputs": [],
   "source": [
    "def create_boardgame_users_parquet():\n",
    "    if not os.path.exists(BOARDGAME_USERS_PARQUET_PATH):\n",
    "        os.makedirs(BOARDGAME_USERS_PARQUET_PATH)\n",
    "        \n",
    "    for xml in filter(lambda x: x.endswith('.xml'), os.listdir(BOARDGAME_USERS_XML_PATH)):\n",
    "        try:\n",
    "            df = xml_collection_to_dataframe(f'{BOARDGAME_USERS_XML_PATH}/{xml}')\n",
    "            parquet_path = f'{BOARDGAME_USERS_PARQUET_PATH}/{xml[:-4]}.parquet'\n",
    "            df.to_parquet(parquet_path)\n",
    "        except Exception as e:\n",
    "            print(e)\n",
    "            print(f'Error: Invalid xml file: {xml}')"
   ]
  },
  {
   "cell_type": "code",
   "execution_count": 15,
   "id": "3a4f933a-364d-4706-9f62-623688200523",
   "metadata": {},
   "outputs": [],
   "source": [
    "def xml_boardgame_to_dataframe():\n",
    "    df_content_id = []\n",
    "    df_content_description = []\n",
    "    df_content_year = []\n",
    "    df_title = []\n",
    "\n",
    "    for folder in os.listdir(BOARDGAME_CONTENT_XML_PATH):\n",
    "        with open(f\"{BOARDGAME_CONTENT_XML_PATH}/{folder}/1.xml\", 'r') as f:\n",
    "            r_text = f.read()\n",
    "        df_content_id.append(folder)\n",
    "        root = ET.fromstring(r_text)\n",
    "        for bg in root:\n",
    "            for field in bg:\n",
    "                if field.tag == 'name' and field.attrib['type'] == 'primary':\n",
    "                    df_title.append(field.attrib['value'])\n",
    "                if field.tag == 'description':\n",
    "                    df_content_description.append(html.unescape(field.text))\n",
    "                if field.tag == 'yearpublished':\n",
    "                    df_content_year.append(int(field.attrib['value']))\n",
    "\n",
    "    return pd.DataFrame({\n",
    "        'content_id': pd.Series(df_content_id, dtype='str'),\n",
    "        'description': pd.Series(df_content_description, dtype='str'),\n",
    "        'release_year': pd.Series(df_content_year, dtype='Int16'),\n",
    "        'title': pd.Series(df_title, dtype='str')\n",
    "    })"
   ]
  },
  {
   "cell_type": "code",
   "execution_count": 16,
   "id": "8b255246-7a58-4a95-9f76-5cff2887ddfd",
   "metadata": {},
   "outputs": [],
   "source": [
    "def create_boardgame_content_parquet():\n",
    "    if not os.path.exists(BOARDGAME_CONTENT_PARQUET_PATH):\n",
    "        os.makedirs(BOARDGAME_CONTENT_PARQUET_PATH)\n",
    "\n",
    "    schema = StructType([\n",
    "        StructField(\"content_id\", StringType(), True),\n",
    "        StructField(\"description\", StringType(), True),\n",
    "        StructField(\"release_year\", IntegerType(), True),\n",
    "        StructField(\"title\", StringType(), True)\n",
    "    ])\n",
    "    \n",
    "    df = xml_boardgame_to_dataframe()\n",
    "    df['description'] = df['description'].astype('str')\n",
    "    df = df.replace([np.nan], [None])\n",
    "    \n",
    "    boardgame_content = (\n",
    "        spark\n",
    "        .createDataFrame(df, schema=schema)\n",
    "        .withColumn('type', lit('boardgame'))\n",
    "    )\n",
    "    \n",
    "    # Save parquet to processed-data zone\n",
    "    boardgame_content.write.mode('overwrite').parquet(BOARDGAME_CONTENT_PARQUET_PATH)"
   ]
  },
  {
   "cell_type": "code",
   "execution_count": 17,
   "id": "ef9f92b5-1106-4495-bc12-6849ada2478c",
   "metadata": {},
   "outputs": [],
   "source": [
    "def get_boardgame_users_df():\n",
    "    boardgame_users = spark.read.parquet(BOARDGAME_USERS_PARQUET_PATH)\n",
    "    return boardgame_users"
   ]
  },
  {
   "cell_type": "code",
   "execution_count": 18,
   "id": "812dec24-234c-4d63-8b60-8cec03fc0a69",
   "metadata": {},
   "outputs": [],
   "source": [
    "def get_boardgame_content_df():\n",
    "    boardgame_content = spark.read.parquet(BOARDGAME_CONTENT_PARQUET_PATH)\n",
    "    return boardgame_content"
   ]
  },
  {
   "cell_type": "code",
   "execution_count": 19,
   "id": "480f3005-c860-4b60-a20a-0b3516dfdb1f",
   "metadata": {
    "scrolled": true
   },
   "outputs": [
    {
     "name": "stdout",
     "output_type": "stream",
     "text": [
      "'collid'\n",
      "Error: Invalid xml file: Century.xml\n",
      "'collid'\n",
      "Error: Invalid xml file: Icythistle.xml\n",
      "'collid'\n",
      "Error: Invalid xml file: ItsCharlieVP.xml\n",
      "'collid'\n",
      "Error: Invalid xml file: nugenet.xml\n",
      "'collid'\n",
      "Error: Invalid xml file: marioymia.xml\n",
      "'collid'\n",
      "Error: Invalid xml file: RobMcWiz.xml\n",
      "'collid'\n",
      "Error: Invalid xml file: zigooloo.xml\n",
      "'collid'\n",
      "Error: Invalid xml file: Halenor.xml\n"
     ]
    }
   ],
   "source": [
    "create_boardgame_users_parquet()"
   ]
  },
  {
   "cell_type": "code",
   "execution_count": 20,
   "id": "1b0bce9c-6e4d-4d53-b054-71f531f3d5e9",
   "metadata": {},
   "outputs": [],
   "source": [
    "create_boardgame_content_parquet()"
   ]
  },
  {
   "cell_type": "code",
   "execution_count": 21,
   "id": "5ded81b9-f2a3-483b-9243-086502c2e2b1",
   "metadata": {},
   "outputs": [
    {
     "name": "stdout",
     "output_type": "stream",
     "text": [
      "+-----------+---------+----------+------+-------------------+\n",
      "|    user_id|     type|content_id|rating|        rating_date|\n",
      "+-----------+---------+----------+------+-------------------+\n",
      "|zefquaavius|boardgame|    322232|   6.0|2023-08-01 14:52:32|\n",
      "|zefquaavius|boardgame|    296402|   8.0|2023-08-02 14:18:24|\n",
      "|zefquaavius|boardgame|    336537|  null|2023-08-02 14:18:38|\n",
      "|zefquaavius|boardgame|    314445|  null|2023-08-02 14:18:54|\n",
      "|zefquaavius|boardgame|    296404|  null|2023-08-02 14:19:11|\n",
      "+-----------+---------+----------+------+-------------------+\n",
      "only showing top 5 rows\n",
      "\n",
      "root\n",
      " |-- user_id: string (nullable = true)\n",
      " |-- type: string (nullable = true)\n",
      " |-- content_id: string (nullable = true)\n",
      " |-- rating: double (nullable = true)\n",
      " |-- rating_date: timestamp_ntz (nullable = true)\n",
      "\n"
     ]
    }
   ],
   "source": [
    "boardgame_users = get_boardgame_users_df()\n",
    "boardgame_users.show(5)\n",
    "boardgame_users.printSchema()"
   ]
  },
  {
   "cell_type": "code",
   "execution_count": 22,
   "id": "a9517615-8a64-4321-be33-963add4e875f",
   "metadata": {},
   "outputs": [
    {
     "name": "stdout",
     "output_type": "stream",
     "text": [
      "+----------+--------------------+------------+--------------------+---------+\n",
      "|content_id|         description|release_year|               title|     type|\n",
      "+----------+--------------------+------------+--------------------+---------+\n",
      "|    189314|Set of seven prom...|        2015|Fallen: Outlands ...|boardgame|\n",
      "|    157661|Grifters is a han...|        2015|            Grifters|boardgame|\n",
      "|    174391|Exposed is a quic...|        2016|             Exposed|boardgame|\n",
      "|    168054|Alone is a sci-fi...|        2019|               Alone|boardgame|\n",
      "|    191932|From the official...|        2012|Soccero (Second E...|boardgame|\n",
      "+----------+--------------------+------------+--------------------+---------+\n",
      "only showing top 5 rows\n",
      "\n",
      "root\n",
      " |-- content_id: string (nullable = true)\n",
      " |-- description: string (nullable = true)\n",
      " |-- release_year: integer (nullable = true)\n",
      " |-- title: string (nullable = true)\n",
      " |-- type: string (nullable = true)\n",
      "\n"
     ]
    }
   ],
   "source": [
    "boardgame_content = get_boardgame_content_df()\n",
    "boardgame_content.show(5)\n",
    "boardgame_content.printSchema()"
   ]
  },
  {
   "cell_type": "code",
   "execution_count": 23,
   "id": "ed41e521-3d92-4ecd-9236-829d70711e50",
   "metadata": {},
   "outputs": [
    {
     "name": "stderr",
     "output_type": "stream",
     "text": [
      "1it [00:05,  5.97s/it]\n"
     ]
    }
   ],
   "source": [
    "store_processed_parquet(BOARDGAME_USERS_PARQUET_PATH, prefix='boardgame')"
   ]
  },
  {
   "cell_type": "code",
   "execution_count": 24,
   "id": "108452b6-99ad-4a63-9a11-47bf84e5f39a",
   "metadata": {},
   "outputs": [
    {
     "name": "stderr",
     "output_type": "stream",
     "text": [
      "1it [00:00,  1.58it/s]\n"
     ]
    }
   ],
   "source": [
    "store_processed_parquet(BOARDGAME_CONTENT_PARQUET_PATH, prefix='boardgame')"
   ]
  },
  {
   "cell_type": "markdown",
   "id": "f0765858-e3a1-4c06-8bd1-2a00c2c29e46",
   "metadata": {},
   "source": [
    "## Movies"
   ]
  },
  {
   "cell_type": "code",
   "execution_count": 25,
   "id": "7355dce1-61e6-46a4-b035-e56f07ddc689",
   "metadata": {},
   "outputs": [],
   "source": [
    "MOVIE_BASE_PARQUET_PATH = './local_data/movie/review'\n",
    "MOVIE_BASE_INFO_PATH = './local_data/movie/info'\n",
    "MOVIE_USERS_PARQUET_PATH = \"./local_data/movie/processed_data/movie_users.parquet\"\n",
    "MOVIE_CONTENT_PARQUET_PATH = \"./local_data/movie/processed_data/movie_content.parquet\""
   ]
  },
  {
   "cell_type": "code",
   "execution_count": 26,
   "id": "ace4efaa-7de2-45c6-8ff6-17f5029be320",
   "metadata": {},
   "outputs": [],
   "source": [
    "def create_movie_users_parquet():\n",
    "    schema = ArrayType(\n",
    "        StructType([\n",
    "            StructField(\"author\", StringType(), True),\n",
    "            StructField(\"author_details\", StructType([\n",
    "                StructField(\"rating\", StringType(), True)\n",
    "            ]), True),\n",
    "            StructField(\"created_at\", StringType(), True),\n",
    "        ])\n",
    "    )\n",
    "    \n",
    "    movie_users = spark.read.parquet(MOVIE_BASE_PARQUET_PATH)\\\n",
    "              .filter(length(\"results\")>2)\\\n",
    "              .withColumn(\"results_test\", col('results'))\\\n",
    "              .withColumn(\"results_parsed\", from_json(col(\"results_test\"), schema))\\\n",
    "              .withColumn(\"result_exploded\", explode(col(\"results_parsed\")))\\\n",
    "              .withColumn('result_exploded', col(\"result_exploded\").cast(StringType()))\n",
    "    \n",
    "    split_col = split(movie_users['result_exploded'], ', ')\n",
    "    \n",
    "    movie_users = movie_users.withColumn('author', split_col.getItem(0)) \\\n",
    "               .withColumn('author', expr(\"substring(author,2, length(author) -1)\")) \\\n",
    "               .withColumn('rating', split_col.getItem(1)) \\\n",
    "               .withColumn(\"rating\", expr(\"substring(rating, 2, length(rating) - 2)\"))\\\n",
    "               .withColumn(\"rating\", col('rating').cast(DoubleType()))\\\n",
    "               .withColumn('rating_date', split_col.getItem(2))\\\n",
    "               .withColumn('rating_date', expr(\"substring(rating_date,1, length(rating_date) -1)\"))\\\n",
    "               .withColumn(\"rating_date\", to_date(col(\"rating_date\"), \"yyyy-MM-dd'T'HH:mm:ss.SSS'Z'\"))\\\n",
    "               .select(col('author').alias('user_id'), lit('movie').alias('type'), col('id').alias('content_id').cast(StringType()), 'rating', 'rating_date')\n",
    "\n",
    "    if not os.path.exists(MOVIE_USERS_PARQUET_PATH):\n",
    "        os.makedirs(MOVIE_USERS_PARQUET_PATH)\n",
    "\n",
    "    movie_users.repartition(1).write.mode('overwrite').parquet(MOVIE_USERS_PARQUET_PATH)"
   ]
  },
  {
   "cell_type": "code",
   "execution_count": 27,
   "id": "ab09e861-f7bf-4a7a-81a3-c5fdc512d3dc",
   "metadata": {},
   "outputs": [],
   "source": [
    "def create_movie_content_parquet():\n",
    "    if not os.path.exists(MOVIE_CONTENT_PARQUET_PATH):\n",
    "        os.makedirs(MOVIE_CONTENT_PARQUET_PATH)\n",
    "    \n",
    "    movie_content = (\n",
    "        spark\n",
    "        .read.parquet(MOVIE_BASE_INFO_PATH)\n",
    "        .select(col('id').alias('content_id'), col('overview').alias('description'), col('release_date').alias('release_year'),col('original_title').alias('title'))\n",
    "        .withColumn('release_year', substring(\"release_year\", 1, 4))\n",
    "        .withColumn('type', lit('movie'))\n",
    "        .repartition(1).write.mode('overwrite').parquet(MOVIE_CONTENT_PARQUET_PATH)\n",
    "    )"
   ]
  },
  {
   "cell_type": "code",
   "execution_count": 28,
   "id": "9bcf4b4c-f553-465a-b331-17dc24bf207b",
   "metadata": {},
   "outputs": [],
   "source": [
    "def get_movie_users_df():\n",
    "    movie_users = spark.read.parquet(MOVIE_USERS_PARQUET_PATH)\n",
    "    return movie_users"
   ]
  },
  {
   "cell_type": "code",
   "execution_count": 29,
   "id": "bea32529-7a8c-4875-aa7b-8d183af2ff18",
   "metadata": {},
   "outputs": [],
   "source": [
    "def get_movie_content_df():\n",
    "    movie_content = spark.read.parquet(MOVIE_CONTENT_PARQUET_PATH)\n",
    "    return movie_content"
   ]
  },
  {
   "cell_type": "code",
   "execution_count": 30,
   "id": "1ebf653c-5b99-44cd-ad4b-c55b49b2ab91",
   "metadata": {},
   "outputs": [],
   "source": [
    "create_movie_users_parquet()"
   ]
  },
  {
   "cell_type": "code",
   "execution_count": 31,
   "id": "51946b04-d6ff-4bc3-91aa-b0ae779fd8d1",
   "metadata": {},
   "outputs": [],
   "source": [
    "create_movie_content_parquet()"
   ]
  },
  {
   "cell_type": "code",
   "execution_count": 32,
   "id": "e85758c8-88ee-4d6e-8bb2-9b2583e86668",
   "metadata": {},
   "outputs": [
    {
     "name": "stdout",
     "output_type": "stream",
     "text": [
      "+----------------+-----+----------+------+-----------+\n",
      "|         user_id| type|content_id|rating|rating_date|\n",
      "+----------------+-----+----------+------+-----------+\n",
      "|         SWITCH.|movie|    577922|   6.0| 2020-08-25|\n",
      "|Manuel São Bento|movie|    577922|   8.0| 2020-08-27|\n",
      "|    Simon Massey|movie|    577922|   9.0| 2020-08-27|\n",
      "|          Daniel|movie|    577922|  10.0| 2020-09-04|\n",
      "|Stephen Campbell|movie|    577922|   2.0| 2020-09-30|\n",
      "+----------------+-----+----------+------+-----------+\n",
      "only showing top 5 rows\n",
      "\n",
      "root\n",
      " |-- user_id: string (nullable = true)\n",
      " |-- type: string (nullable = true)\n",
      " |-- content_id: string (nullable = true)\n",
      " |-- rating: double (nullable = true)\n",
      " |-- rating_date: date (nullable = true)\n",
      "\n"
     ]
    }
   ],
   "source": [
    "movie_users = get_movie_users_df()\n",
    "movie_users.show(5)\n",
    "movie_users.printSchema()"
   ]
  },
  {
   "cell_type": "code",
   "execution_count": 33,
   "id": "81bcd714-6856-442b-ae5f-08d07fdcfde4",
   "metadata": {},
   "outputs": [
    {
     "name": "stdout",
     "output_type": "stream",
     "text": [
      "+----------+--------------------+------------+----------------------+-----+\n",
      "|content_id|         description|release_year|                 title| type|\n",
      "+----------+--------------------+------------+----------------------+-----+\n",
      "|    137193|In a cabin of the...|        2012|  Le Jour des Corne...|movie|\n",
      "|     17771|The story of a Je...|        1999|              Sunshine|movie|\n",
      "|    605389|It is the early 1...|        2019|    アルキメデスの大戦|movie|\n",
      "|    710488|A cinematic journ...|        2019|        Citizen Europe|movie|\n",
      "|    126963|The events of Bat...|        2013|ドラゴンボールZ 神と神|movie|\n",
      "+----------+--------------------+------------+----------------------+-----+\n",
      "only showing top 5 rows\n",
      "\n",
      "root\n",
      " |-- content_id: long (nullable = true)\n",
      " |-- description: string (nullable = true)\n",
      " |-- release_year: string (nullable = true)\n",
      " |-- title: string (nullable = true)\n",
      " |-- type: string (nullable = true)\n",
      "\n"
     ]
    }
   ],
   "source": [
    "movie_content = get_movie_content_df()\n",
    "movie_content.show(5)\n",
    "movie_content.printSchema()"
   ]
  },
  {
   "cell_type": "code",
   "execution_count": 34,
   "id": "ddc96c42-8f82-4fb0-b1dc-cf8a37b13bb1",
   "metadata": {},
   "outputs": [
    {
     "name": "stderr",
     "output_type": "stream",
     "text": [
      "1it [00:00, 14.77it/s]\n"
     ]
    }
   ],
   "source": [
    "store_processed_parquet(MOVIE_USERS_PARQUET_PATH, prefix='movie')"
   ]
  },
  {
   "cell_type": "code",
   "execution_count": 35,
   "id": "b04ef0f6-7393-4708-a197-3f7fba8757b8",
   "metadata": {},
   "outputs": [
    {
     "name": "stderr",
     "output_type": "stream",
     "text": [
      "1it [00:00,  8.97it/s]\n"
     ]
    }
   ],
   "source": [
    "store_processed_parquet(MOVIE_CONTENT_PARQUET_PATH, prefix='movie')"
   ]
  },
  {
   "cell_type": "markdown",
   "id": "552ffe46-8b53-4490-abe8-d3ac5843f259",
   "metadata": {},
   "source": [
    "## Anime"
   ]
  },
  {
   "cell_type": "code",
   "execution_count": 38,
   "id": "c202fc57-429e-4dfe-b83e-6640ac4387a9",
   "metadata": {},
   "outputs": [],
   "source": [
    "ANIME_BASE_CONTENT_PATH = './local_data/anime/info'\n",
    "ANIME_BASE_USERS_PATH = './local_data/anime/user_info'\n",
    "ANIME_TEMP_PARQUET_PATH = './local_data/anime/temp'\n",
    "ANIME_USERS_PARQUET_PATH = \"./local_data/anime/processed_data/anime_users.parquet\"\n",
    "ANIME_CONTENT_PARQUET_PATH = \"./local_data/anime/processed_data/anime_content.parquet\""
   ]
  },
  {
   "cell_type": "code",
   "execution_count": 39,
   "id": "09ef7daa-6645-44f5-adc3-d6cea024d251",
   "metadata": {},
   "outputs": [],
   "source": [
    "def create_anime_users_parquet():\n",
    "    if not os.path.exists(ANIME_USERS_PARQUET_PATH):\n",
    "        os.makedirs(ANIME_USERS_PARQUET_PATH)\n",
    "    path_for_anime_lists = ANIME_BASE_USERS_PATH\n",
    "    user_anime_lists_paths = os.listdir(path_for_anime_lists)\n",
    "    \n",
    "    df = spark.read.json(\n",
    "        path = [f'{path_for_anime_lists}/{i}' for i in user_anime_lists_paths],\n",
    "        multiLine = True, \n",
    "        mode = 'DROPMALFORMED'\n",
    "    ).withColumn('file_name', input_file_name()).select(\n",
    "        from_unixtime(col('updated_at')).alias('rating_date'),\n",
    "        col('score').alias('rating'),\n",
    "        col('anime_id').alias('content_id'),\n",
    "        regexp_extract(col('file_name'), '\\/([^\\/]+)\\.json$', 1).alias('user_id'),\n",
    "    )\\\n",
    "    .withColumn('type', lit('anime'))\\\n",
    "    .coalesce(1).write.mode('overwrite').parquet(ANIME_USERS_PARQUET_PATH)"
   ]
  },
  {
   "cell_type": "code",
   "execution_count": 40,
   "id": "25a96514-e91c-4e8b-a553-aea90f892a31",
   "metadata": {},
   "outputs": [],
   "source": [
    "def create_anime_content_parquet():\n",
    "    if not os.path.exists(ANIME_CONTENT_PARQUET_PATH):\n",
    "        os.makedirs(ANIME_CONTENT_PARQUET_PATH)\n",
    "\n",
    "    if not os.path.exists(ANIME_TEMP_PARQUET_PATH):\n",
    "        os.makedirs(ANIME_TEMP_PARQUET_PATH)\n",
    "    \n",
    "    path_for_animes = ANIME_BASE_CONTENT_PATH\n",
    "    anime_paths = os.listdir(path_for_animes)\n",
    "    \n",
    "    batch_size = 1000\n",
    "    cnt = 0\n",
    "    \n",
    "    while len(anime_paths) > cnt * batch_size :\n",
    "        df = spark.read.json(\n",
    "            path = [f'{path_for_animes}/{i}' for i in anime_paths][cnt * batch_size: (cnt + 1) * batch_size],\n",
    "            multiLine = True, \n",
    "            mode = 'DROPMALFORMED'\n",
    "        )\\\n",
    "        .dropna(subset=['data.aired.prop.from.year'])\n",
    "        df.write.mode('overwrite').parquet(f'{ANIME_TEMP_PARQUET_PATH}/{cnt}')\n",
    "        cnt += 1\n",
    "    \n",
    "    parquet_files_path = ANIME_TEMP_PARQUET_PATH\n",
    "    parquet_files = os.listdir(parquet_files_path)\n",
    "    df = spark.read.parquet(*[f'{parquet_files_path}/{i}' for i in parquet_files])\n",
    "    df.select(\n",
    "        col('data.synopsis').alias('description'),\n",
    "        col('data.title').alias('title'),\n",
    "        col('data.mal_id').cast(StringType()).alias('content_id'),\n",
    "        col('data.aired.prop.from.year').alias('release_year')\n",
    "    )\\\n",
    "    .withColumn('type', lit('anime'))\\\n",
    "    .coalesce(1).write.mode('overwrite').parquet(ANIME_CONTENT_PARQUET_PATH)"
   ]
  },
  {
   "cell_type": "code",
   "execution_count": 41,
   "id": "067c01a7-ea3e-425a-a685-1b34f66ad405",
   "metadata": {},
   "outputs": [],
   "source": [
    "def get_anime_users_df():\n",
    "    anime_users = spark.read.parquet(ANIME_USERS_PARQUET_PATH)\n",
    "    return anime_users"
   ]
  },
  {
   "cell_type": "code",
   "execution_count": 42,
   "id": "37ff4893-4464-420f-a3c4-cca1b9b83de2",
   "metadata": {},
   "outputs": [],
   "source": [
    "def get_anime_content_df():\n",
    "    anime_content = spark.read.parquet(ANIME_CONTENT_PARQUET_PATH)\n",
    "    return anime_content"
   ]
  },
  {
   "cell_type": "code",
   "execution_count": 43,
   "id": "f5699c63-31a2-48ff-8b27-547a307fc269",
   "metadata": {},
   "outputs": [],
   "source": [
    "create_anime_users_parquet()"
   ]
  },
  {
   "cell_type": "code",
   "execution_count": 44,
   "id": "469e1076-4a48-42a7-a1c3-e8548d76822d",
   "metadata": {},
   "outputs": [],
   "source": [
    "create_anime_content_parquet()"
   ]
  },
  {
   "cell_type": "code",
   "execution_count": 45,
   "id": "606ecb67-932d-4eb6-9510-d964cc71a7ed",
   "metadata": {},
   "outputs": [
    {
     "name": "stdout",
     "output_type": "stream",
     "text": [
      "+-------------------+------+----------+---------+-----+\n",
      "|        rating_date|rating|content_id|  user_id| type|\n",
      "+-------------------+------+----------+---------+-----+\n",
      "|2023-03-17 00:35:34|     0|       918|Nabil_967|anime|\n",
      "|2023-08-13 12:15:08|    10|        21|Nabil_967|anime|\n",
      "|2022-07-05 23:35:51|     0|     48583|Nabil_967|anime|\n",
      "|2023-07-29 14:19:26|     9|     52034|Nabil_967|anime|\n",
      "|2022-03-01 19:53:09|     5|     41380|Nabil_967|anime|\n",
      "+-------------------+------+----------+---------+-----+\n",
      "only showing top 5 rows\n",
      "\n",
      "root\n",
      " |-- rating_date: string (nullable = true)\n",
      " |-- rating: long (nullable = true)\n",
      " |-- content_id: long (nullable = true)\n",
      " |-- user_id: string (nullable = true)\n",
      " |-- type: string (nullable = true)\n",
      "\n"
     ]
    }
   ],
   "source": [
    "anime_users = get_anime_users_df()\n",
    "anime_users.show(5)\n",
    "anime_users.printSchema()"
   ]
  },
  {
   "cell_type": "code",
   "execution_count": 46,
   "id": "7b4bf4f5-5b60-4635-8c4a-405217a608c0",
   "metadata": {},
   "outputs": [
    {
     "name": "stdout",
     "output_type": "stream",
     "text": [
      "+--------------------+--------------------+----------+------------+-----+\n",
      "|         description|               title|content_id|release_year| type|\n",
      "+--------------------+--------------------+----------+------------+-----+\n",
      "|During their ques...|InuYasha Movie 1:...|       452|        2001|anime|\n",
      "|In the year Cosmi...|Kidou Senshi Gund...|        93|        2002|anime|\n",
      "|The final battle ...|Sword Art Online:...|     40540|        2020|anime|\n",
      "|On his way to a c...|Tensei Kizoku no ...|     52608|        2023|anime|\n",
      "|Awaking to absolu...|Sokushi Cheat ga ...|     53730|        2024|anime|\n",
      "+--------------------+--------------------+----------+------------+-----+\n",
      "only showing top 5 rows\n",
      "\n",
      "root\n",
      " |-- description: string (nullable = true)\n",
      " |-- title: string (nullable = true)\n",
      " |-- content_id: string (nullable = true)\n",
      " |-- release_year: long (nullable = true)\n",
      " |-- type: string (nullable = true)\n",
      "\n"
     ]
    }
   ],
   "source": [
    "anime_content = get_anime_content_df()\n",
    "anime_content.show(5)\n",
    "anime_content.printSchema()"
   ]
  },
  {
   "cell_type": "code",
   "execution_count": 47,
   "id": "2849aa30-fa44-4684-b858-fe8f53b51a68",
   "metadata": {},
   "outputs": [
    {
     "name": "stderr",
     "output_type": "stream",
     "text": [
      "1it [00:00, 11.52it/s]\n"
     ]
    }
   ],
   "source": [
    "store_processed_parquet(ANIME_USERS_PARQUET_PATH, prefix='anime')"
   ]
  },
  {
   "cell_type": "code",
   "execution_count": 48,
   "id": "fbbf06c6-d114-4845-a2a6-32aa3bc7dda9",
   "metadata": {},
   "outputs": [
    {
     "name": "stderr",
     "output_type": "stream",
     "text": [
      "1it [00:00,  8.52it/s]\n"
     ]
    }
   ],
   "source": [
    "store_processed_parquet(ANIME_CONTENT_PARQUET_PATH, prefix='anime')"
   ]
  },
  {
   "cell_type": "markdown",
   "id": "14a972e3-9f27-40a7-baac-c8745c15b9c5",
   "metadata": {},
   "source": [
    "## Videogames"
   ]
  },
  {
   "cell_type": "code",
   "execution_count": 49,
   "id": "295f45c9-0a19-420b-9e3d-344c877e992d",
   "metadata": {},
   "outputs": [],
   "source": [
    "VIDEOGAME_BASE_SUMMARIES_PATH = './local_data/videogame/player_profile.json'\n",
    "VIDEOGAME_BASE_PROFILES_PATH = './local_data/videogame/games_played.json'\n",
    "VIDEOGAME_BASE_GAMES_PATH = './local_data/videogame/steam_games.json'\n",
    "VIDEOGAME_USERS_PARQUET_PATH = \"./local_data/videogame/processed_data/v_users.parquet\"\n",
    "VIDEOGAME_CONTENT_PARQUET_PATH = \"./local_data/videogame/processed_data/videogame_content.parquet\""
   ]
  },
  {
   "cell_type": "code",
   "execution_count": 50,
   "id": "668148b7-efe6-49e0-9351-05cd90cd10d1",
   "metadata": {},
   "outputs": [],
   "source": [
    "def create_videogame_users_parquet():\n",
    "    # Load player_summaries.json\n",
    "    with open(VIDEOGAME_BASE_SUMMARIES_PATH, 'r') as f:\n",
    "        player_summaries_data = json.load(f)\n",
    "    \n",
    "    # Load steam_profiles.json\n",
    "    with open(VIDEOGAME_BASE_PROFILES_PATH, 'r') as f:\n",
    "        steam_profiles_data = json.load(f)\n",
    "    \n",
    "    # Initialize list to store data\n",
    "    common_rows = []\n",
    "    \n",
    "    # Process data from steam_profiles_data\n",
    "    for steam_profiles in steam_profiles_data:\n",
    "        steamid = list(steam_profiles.keys())[0]\n",
    "        games = steam_profiles[steamid]\n",
    "        player_summary = next((summary for summary in player_summaries_data if steamid in summary), None)\n",
    "        # Check if the player summary data is available and not empty\n",
    "        if player_summary and player_summary[steamid]:\n",
    "            personaname = player_summary[steamid].get('personaname', 'Unknown')\n",
    "            for game in games:\n",
    "                appid = game['appid']\n",
    "                playtime_forever = game['playtime_forever']\n",
    "                if playtime_forever > 0:  # Skip if playtime_forever is 0\n",
    "                    common_rows.append({'user_id': personaname, 'type': 'videogame', 'content_id': appid, 'temp_rating': playtime_forever})\n",
    "\n",
    "    common_df = spark.createDataFrame(common_rows)\n",
    "    max_playtime = common_df.groupBy('user_id').agg(spark_max('temp_rating').alias('max_temp_rating'))\n",
    "    common_df = common_df.join(max_playtime, on='user_id')\n",
    "    common_df = common_df.withColumn('rating', (col('temp_rating') / col('max_temp_rating')) * 10)\n",
    "    common_df = common_df.withColumn('rating', ceil(col('rating')))\n",
    "    common_df = common_df.drop('temp_rating', 'max_temp_rating')\n",
    "    common_df = common_df.withColumn('rating_date', lit(None).cast('string'))\n",
    "    common_df.write.mode('overwrite').parquet(VIDEOGAME_USERS_PARQUET_PATH)"
   ]
  },
  {
   "cell_type": "code",
   "execution_count": 51,
   "id": "66b7b209-82bf-40cb-b2a6-d5e336012ac1",
   "metadata": {},
   "outputs": [],
   "source": [
    "def create_videogame_content_parquet():\n",
    "    # Load the dataset from games.json\n",
    "    dataset = {}\n",
    "    if os.path.exists(VIDEOGAME_BASE_GAMES_PATH):\n",
    "        with open(VIDEOGAME_BASE_GAMES_PATH, 'r', encoding='utf-8') as fin:\n",
    "            text = fin.read()\n",
    "            if len(text) > 0:\n",
    "                dataset = json.loads(text)\n",
    "    \n",
    "    # Initialize list to store data\n",
    "    rows = []\n",
    "    \n",
    "    # Extract the relevant data\n",
    "    for app_id, game_info in dataset.items():\n",
    "        name = game_info.get('name', '')\n",
    "        release_date = game_info.get('release_date', '')\n",
    "        # Extract the year from the release_date\n",
    "        if release_date:\n",
    "            release_year = release_date.split()[-1]\n",
    "        else:\n",
    "            release_year = ''\n",
    "        description = game_info.get('detailed_description', '')\n",
    "    \n",
    "        rows.append(Row(content_id=app_id, title=name, release_year=release_year, description=description))\n",
    "    \n",
    "    # Create Spark DataFrame\n",
    "    df = spark.createDataFrame(rows)\n",
    "    df = df.withColumn('type', lit('videogame'))\n",
    "    df.write.mode('overwrite').parquet(VIDEOGAME_CONTENT_PARQUET_PATH)"
   ]
  },
  {
   "cell_type": "code",
   "execution_count": 52,
   "id": "19a6ce98-04fe-42fc-b1fa-4ec8fc13d18b",
   "metadata": {},
   "outputs": [],
   "source": [
    "def get_videogame_users_df():\n",
    "    videogame_users = spark.read.parquet(VIDEOGAME_USERS_PARQUET_PATH)\n",
    "    return videogame_users"
   ]
  },
  {
   "cell_type": "code",
   "execution_count": 53,
   "id": "9712b582-1652-4722-8701-5984d90479af",
   "metadata": {},
   "outputs": [],
   "source": [
    "def get_videogame_content_df():\n",
    "    videogame_content = spark.read.parquet(VIDEOGAME_CONTENT_PARQUET_PATH)\n",
    "    return videogame_content"
   ]
  },
  {
   "cell_type": "code",
   "execution_count": 54,
   "id": "038c56d7-e375-4acc-b707-014bbcc593dc",
   "metadata": {},
   "outputs": [],
   "source": [
    "create_videogame_users_parquet()"
   ]
  },
  {
   "cell_type": "code",
   "execution_count": 55,
   "id": "67b67d64-1c9d-4fe9-895d-2c05e2829dc6",
   "metadata": {},
   "outputs": [],
   "source": [
    "create_videogame_content_parquet()"
   ]
  },
  {
   "cell_type": "code",
   "execution_count": 56,
   "id": "01ed97db-dcef-41e5-b239-9f10bc4488e2",
   "metadata": {},
   "outputs": [
    {
     "name": "stdout",
     "output_type": "stream",
     "text": [
      "+-------+----------+---------+------+-----------+\n",
      "|user_id|content_id|     type|rating|rating_date|\n",
      "+-------+----------+---------+------+-----------+\n",
      "|   Fooo|       300|videogame|     1|       null|\n",
      "|   Fooo|      4000|videogame|     1|       null|\n",
      "|   Fooo|      2600|videogame|     1|       null|\n",
      "|   Fooo|       220|videogame|     1|       null|\n",
      "|   Fooo|       500|videogame|     1|       null|\n",
      "+-------+----------+---------+------+-----------+\n",
      "only showing top 5 rows\n",
      "\n",
      "root\n",
      " |-- user_id: string (nullable = true)\n",
      " |-- content_id: long (nullable = true)\n",
      " |-- type: string (nullable = true)\n",
      " |-- rating: long (nullable = true)\n",
      " |-- rating_date: string (nullable = true)\n",
      "\n"
     ]
    }
   ],
   "source": [
    "videogame_users = get_videogame_users_df()\n",
    "videogame_users.show(5)\n",
    "videogame_users.printSchema()"
   ]
  },
  {
   "cell_type": "code",
   "execution_count": 57,
   "id": "29b5823e-8c42-4339-b4f6-75770a185aa4",
   "metadata": {},
   "outputs": [
    {
     "name": "stdout",
     "output_type": "stream",
     "text": [
      "+----------+--------------------+------------+--------------------+---------+\n",
      "|content_id|               title|release_year|         description|     type|\n",
      "+----------+--------------------+------------+--------------------+---------+\n",
      "|    837390|        My zero trip|        2018|My zero trip is a...|videogame|\n",
      "|   1564580|Nevertales: Faryo...|        2021|Mad Head Games re...|videogame|\n",
      "|    263560|      Paper Sorcerer|        2014|Paper Sorcerer is...|videogame|\n",
      "|    831230|    Doors Quest Demo|        2018|Doors Quest Demo ...|videogame|\n",
      "|   1738500|       velvet clouds|        2021|Velvet Clouds - a...|videogame|\n",
      "+----------+--------------------+------------+--------------------+---------+\n",
      "only showing top 5 rows\n",
      "\n",
      "root\n",
      " |-- content_id: string (nullable = true)\n",
      " |-- title: string (nullable = true)\n",
      " |-- release_year: string (nullable = true)\n",
      " |-- description: string (nullable = true)\n",
      " |-- type: string (nullable = true)\n",
      "\n"
     ]
    }
   ],
   "source": [
    "videogame_content = get_videogame_content_df()\n",
    "videogame_content.show(5)\n",
    "videogame_content.printSchema()"
   ]
  },
  {
   "cell_type": "code",
   "execution_count": 58,
   "id": "40d5fe6f-1d9e-40fd-923e-da760c5dfa77",
   "metadata": {},
   "outputs": [
    {
     "name": "stderr",
     "output_type": "stream",
     "text": [
      "1it [00:00, 10.85it/s]\n"
     ]
    }
   ],
   "source": [
    "store_processed_parquet(VIDEOGAME_USERS_PARQUET_PATH, prefix='videogame')"
   ]
  },
  {
   "cell_type": "code",
   "execution_count": 59,
   "id": "37193680-a69f-480d-bbec-4bbe485797a0",
   "metadata": {},
   "outputs": [
    {
     "name": "stderr",
     "output_type": "stream",
     "text": [
      "1it [00:00,  1.23it/s]\n"
     ]
    }
   ],
   "source": [
    "store_processed_parquet(VIDEOGAME_CONTENT_PARQUET_PATH, prefix='videogame')"
   ]
  },
  {
   "cell_type": "markdown",
   "id": "bac3ee52-5f72-4413-95fd-9900ce409979",
   "metadata": {},
   "source": [
    "# Merging all content"
   ]
  },
  {
   "cell_type": "code",
   "execution_count": 60,
   "id": "6d123d9e-db41-4014-93c7-5c35596ed28d",
   "metadata": {},
   "outputs": [
    {
     "name": "stdout",
     "output_type": "stream",
     "text": [
      "root\n",
      " |-- user_id: string (nullable = true)\n",
      " |-- type: string (nullable = true)\n",
      " |-- content_id: string (nullable = true)\n",
      " |-- rating: double (nullable = true)\n",
      " |-- rating_date: string (nullable = true)\n",
      "\n",
      "+-----------+---------+----------+------+-------------------+\n",
      "|    user_id|     type|content_id|rating|        rating_date|\n",
      "+-----------+---------+----------+------+-------------------+\n",
      "|zefquaavius|boardgame|    322232|   6.0|2023-08-01 14:52:32|\n",
      "|zefquaavius|boardgame|    296402|   8.0|2023-08-02 14:18:24|\n",
      "|zefquaavius|boardgame|    336537|  null|2023-08-02 14:18:38|\n",
      "|zefquaavius|boardgame|    314445|  null|2023-08-02 14:18:54|\n",
      "|zefquaavius|boardgame|    296404|  null|2023-08-02 14:19:11|\n",
      "|zefquaavius|boardgame|    296406|  null|2023-08-01 14:56:42|\n",
      "|zefquaavius|boardgame|    322429|  null|2023-08-02 14:19:32|\n",
      "|zefquaavius|boardgame|    309782|   6.0|2023-08-01 14:57:01|\n",
      "|zefquaavius|boardgame|    314446|  null|2023-08-02 14:19:57|\n",
      "|zefquaavius|boardgame|    296407|  null|2023-08-01 14:57:31|\n",
      "|zefquaavius|boardgame|    296423|  null|2023-08-01 14:57:46|\n",
      "|zefquaavius|boardgame|    296411|  null|2023-08-02 14:20:11|\n",
      "|zefquaavius|boardgame|    321710|  null|2023-08-02 14:20:23|\n",
      "|zefquaavius|boardgame|    309530|   4.0|2023-08-01 14:58:03|\n",
      "|zefquaavius|boardgame|    314444|  null|2023-08-02 14:20:37|\n",
      "|zefquaavius|boardgame|    336618|   7.0|2023-08-01 14:58:12|\n",
      "|zefquaavius|boardgame|    296272|  null|2023-08-02 14:21:09|\n",
      "|zefquaavius|boardgame|    309523|   7.0|2023-08-02 14:21:22|\n",
      "|zefquaavius|boardgame|    309658|   6.0|2023-08-01 15:00:31|\n",
      "|zefquaavius|boardgame|    324093|   7.0|2023-08-01 15:00:39|\n",
      "+-----------+---------+----------+------+-------------------+\n",
      "only showing top 20 rows\n",
      "\n"
     ]
    }
   ],
   "source": [
    "merged_users = (\n",
    "    boardgame_users\n",
    "    .union(movie_users.select(['user_id', 'type', 'content_id', 'rating', 'rating_date']))\n",
    "    .union(anime_users.select(['user_id', 'type', 'content_id', 'rating', 'rating_date']))\n",
    "    .union(videogame_users.select(['user_id', 'type', 'content_id', 'rating', 'rating_date']))\n",
    "    .withColumn('user_id', trim(lower(col('user_id'))))\n",
    "    .withColumn('type', lower(col('type')))\n",
    ")\n",
    "\n",
    "merged_users.printSchema()\n",
    "merged_users.show()"
   ]
  },
  {
   "cell_type": "code",
   "execution_count": 61,
   "id": "bb696fb3-8bbc-4d85-be1d-a6b900529517",
   "metadata": {},
   "outputs": [
    {
     "name": "stdout",
     "output_type": "stream",
     "text": [
      "root\n",
      " |-- content_id: string (nullable = true)\n",
      " |-- description: string (nullable = true)\n",
      " |-- release_year: string (nullable = true)\n",
      " |-- title: string (nullable = true)\n",
      " |-- type: string (nullable = true)\n",
      "\n",
      "+----------+--------------------+------------+--------------------+---------+\n",
      "|content_id|         description|release_year|               title|     type|\n",
      "+----------+--------------------+------------+--------------------+---------+\n",
      "|    189314|Set of seven prom...|        2015|Fallen: Outlands ...|boardgame|\n",
      "|    157661|Grifters is a han...|        2015|            Grifters|boardgame|\n",
      "|    174391|Exposed is a quic...|        2016|             Exposed|boardgame|\n",
      "|    168054|Alone is a sci-fi...|        2019|               Alone|boardgame|\n",
      "|    191932|From the official...|        2012|Soccero (Second E...|boardgame|\n",
      "|    181495|The theme of the ...|        2015|Yo Fui a EGB: El ...|boardgame|\n",
      "|    131581|A quick trivia ga...|        2014|                Slap|boardgame|\n",
      "|    210179|Description from ...|        2016|              Druids|boardgame|\n",
      "|    168314|One Night Ultimat...|        2015|One Night Ultimat...|boardgame|\n",
      "|    209320|Promotional card ...|        2017|Black Orchestra: ...|boardgame|\n",
      "|    163166|From the publishe...|        2015|Descent: Journeys...|boardgame|\n",
      "|    214319|From the publishe...|        2005|          Domination|boardgame|\n",
      "|    181613|Dead Man's Draw i...|        2015|     Captain Carcass|boardgame|\n",
      "|     16620|Jinx is a new Gam...|        2012|          Dixit Jinx|boardgame|\n",
      "|    149155|This is a promoti...|        2016|Zombicide: M134 G...|boardgame|\n",
      "|    119407|A child's first d...|        1957|Curious George Ma...|boardgame|\n",
      "|    199738|Ether Wars is a s...|        2017|          Ether Wars|boardgame|\n",
      "|     11737|BAM!: Extrahart –...|        2015|     Bam!: Extrahart|boardgame|\n",
      "|    172278|Amidst the frozen...|        2015|          Frostgrave|boardgame|\n",
      "|    181906|Description from ...|        2015|Star Wars: The Ca...|boardgame|\n",
      "+----------+--------------------+------------+--------------------+---------+\n",
      "only showing top 20 rows\n",
      "\n"
     ]
    }
   ],
   "source": [
    "limit_rows = 5000\n",
    "merged_content = (\n",
    "    boardgame_content.limit(limit_rows)\n",
    "    .unionByName(movie_content.limit(limit_rows).select(['content_id', 'description', 'release_year', 'type','title']))\n",
    "    .unionByName(anime_content.limit(limit_rows).select(['content_id', 'description', 'release_year', 'type','title']))\n",
    "    .unionByName(videogame_content.limit(limit_rows).select(['content_id', 'description', 'release_year', 'type','title']))\n",
    ")\n",
    "\n",
    "merged_content.printSchema()\n",
    "merged_content.show()"
   ]
  },
  {
   "cell_type": "code",
   "execution_count": 62,
   "id": "b9a3acb8-9578-4a41-b684-ff0b3dde23b1",
   "metadata": {},
   "outputs": [
    {
     "name": "stdout",
     "output_type": "stream",
     "text": [
      "+---------+------+\n",
      "|     type| count|\n",
      "+---------+------+\n",
      "|    anime|388227|\n",
      "|videogame|289674|\n",
      "|boardgame|258496|\n",
      "|    movie|  1164|\n",
      "+---------+------+\n",
      "\n"
     ]
    }
   ],
   "source": [
    "(\n",
    "    merged_users\n",
    "    .select('type')\n",
    "    .groupBy(col('type'))\n",
    "    .count()\n",
    "    .sort(col('count'), ascending=False)\n",
    "    .show()\n",
    ")"
   ]
  },
  {
   "cell_type": "code",
   "execution_count": 63,
   "id": "aff487b1-213b-4716-a9d6-9c2361345e16",
   "metadata": {},
   "outputs": [
    {
     "name": "stdout",
     "output_type": "stream",
     "text": [
      "+---------+-----+\n",
      "|     type|count|\n",
      "+---------+-----+\n",
      "|boardgame| 5000|\n",
      "|    movie| 5000|\n",
      "|    anime| 5000|\n",
      "|videogame| 5000|\n",
      "+---------+-----+\n",
      "\n"
     ]
    }
   ],
   "source": [
    "(\n",
    "    merged_content\n",
    "    .select('type')\n",
    "    .groupBy(col('type'))\n",
    "    .count()\n",
    "    .sort(col('count'), ascending=False)\n",
    "    .show()\n",
    ")"
   ]
  },
  {
   "cell_type": "code",
   "execution_count": 64,
   "id": "a6841792-7754-4eed-b50b-96c6acb1e694",
   "metadata": {},
   "outputs": [
    {
     "name": "stdout",
     "output_type": "stream",
     "text": [
      "+------------------+-----+\n",
      "|           user_id|count|\n",
      "+------------------+-----+\n",
      "|       zefquaavius| 5547|\n",
      "|      akapastorguy| 4636|\n",
      "|   piston smashed™| 4615|\n",
      "|        slashbunny| 3447|\n",
      "|          naarnold| 3212|\n",
      "|       invader_bzz| 3190|\n",
      "|             tydel| 3171|\n",
      "|         adrimetum| 2959|\n",
      "|          doccabet| 2840|\n",
      "|            huffa2| 2434|\n",
      "|              muyf| 2372|\n",
      "|           domi123| 2243|\n",
      "|       donnie lama| 2224|\n",
      "|          fitadine| 2158|\n",
      "|kreikkaturkulainen| 2004|\n",
      "|         doomfarer| 1994|\n",
      "|            d0gb0t| 1974|\n",
      "|    saxophonechapa| 1951|\n",
      "|            landru| 1922|\n",
      "|     thechrisglass| 1919|\n",
      "+------------------+-----+\n",
      "only showing top 20 rows\n",
      "\n"
     ]
    }
   ],
   "source": [
    "merged_users.groupBy(col('user_id')).count().sort(col('count'), ascending=False).show()"
   ]
  },
  {
   "cell_type": "code",
   "execution_count": 65,
   "id": "e19086a1-8b81-45dc-9e50-4543478a86fb",
   "metadata": {},
   "outputs": [
    {
     "name": "stdout",
     "output_type": "stream",
     "text": [
      "+---------------+-----+\n",
      "|        user_id|count|\n",
      "+---------------+-----+\n",
      "|            rob|    2|\n",
      "|               |    2|\n",
      "|   luckyoneputt|    1|\n",
      "|      eagle1207|    1|\n",
      "|nicaustinqueerq|    1|\n",
      "|      astronoud|    1|\n",
      "|         sqicky|    1|\n",
      "| spacebutterfly|    1|\n",
      "|         r4yn3x|    1|\n",
      "|    soxrivotril|    1|\n",
      "|     thetheredk|    1|\n",
      "|       satertek|    1|\n",
      "|        hukaers|    1|\n",
      "|    monkayylmao|    1|\n",
      "|            gua|    1|\n",
      "|       jettison|    1|\n",
      "|    simonknight|    1|\n",
      "|           holz|    1|\n",
      "|         buddah|    1|\n",
      "|     scarlsberg|    1|\n",
      "+---------------+-----+\n",
      "only showing top 20 rows\n",
      "\n"
     ]
    }
   ],
   "source": [
    "(\n",
    "    merged_users\n",
    "    .select('user_id', 'type')\n",
    "    .withColumn('user_id', trim(regexp_replace(lower(col('user_id')), '[^a-zA-Z0-9]', '')))\n",
    "    .distinct()\n",
    "    .groupBy(col('user_id'))\n",
    "    .count()\n",
    "    .sort(col('count'), ascending=False)\n",
    "    .show()\n",
    ")"
   ]
  },
  {
   "cell_type": "code",
   "execution_count": 66,
   "id": "0ca9acef-45c6-4711-bda9-660e6f00f0c6",
   "metadata": {},
   "outputs": [
    {
     "name": "stdout",
     "output_type": "stream",
     "text": [
      "+---------+-----+\n",
      "|     type|count|\n",
      "+---------+-----+\n",
      "|videogame|  251|\n",
      "+---------+-----+\n",
      "\n"
     ]
    }
   ],
   "source": [
    "(\n",
    "    merged_users\n",
    "    .filter(merged_users['user_id'] == 'daimyo')\n",
    "    .groupBy(col('type'))\n",
    "    .count()\n",
    "    .show()\n",
    ")"
   ]
  },
  {
   "cell_type": "markdown",
   "id": "553f0ff2-4c0d-41b5-a381-cc7e165381b6",
   "metadata": {},
   "source": [
    "# Yake"
   ]
  },
  {
   "cell_type": "markdown",
   "id": "f96df27f-694e-4f9a-b038-be04f00ba9ad",
   "metadata": {},
   "source": [
    "## RDD Way\n",
    "It took 2 min and 7 seconds"
   ]
  },
  {
   "cell_type": "code",
   "execution_count": 67,
   "id": "a8a43655-f4a2-41ae-85f5-a6bbe6c847e1",
   "metadata": {},
   "outputs": [],
   "source": [
    "# df = merged_content\n",
    "# rddK = df.rdd.map(lambda x: (x['content_id'], get_kw(x['description'])))\n",
    "# rddK = spark.createDataFrame(rddK).select(col('_1').alias('content_id'), col('_2').alias('keyword'))\n",
    "# dfK = (rddK.withColumn(\"keyword_1\", expr(\"keyword[0]\"))\n",
    "#                 .withColumn(\"keyword_2\", expr(\"keyword[1]\"))\n",
    "#                 .withColumn(\"keyword_3\", expr(\"keyword[2]\"))\n",
    "#                 .withColumn(\"keyword_4\", expr(\"keyword[3]\"))\n",
    "#                 .withColumn(\"keyword_5\", expr(\"keyword[4]\"))\n",
    "#                 .select('content_id','keyword_1','keyword_2','keyword_3','keyword_4','keyword_5' )\n",
    "#       )\n",
    "# dfK.show()"
   ]
  },
  {
   "cell_type": "code",
   "execution_count": 68,
   "id": "4c40f95c-ed58-44df-8f0d-2f9a76a3b30a",
   "metadata": {},
   "outputs": [],
   "source": [
    "# %%time\n",
    "# dfK.write.mode('overwrite').parquet('./foo/keywords_full_rdd')"
   ]
  },
  {
   "cell_type": "markdown",
   "id": "33bc79eb-3f43-4eee-8c60-fa6ea8432978",
   "metadata": {},
   "source": [
    "- [ ] connect directly spark to neo4j (using the right connector)\n",
    "- [ ] maybe provide some analytics about the users' profile"
   ]
  },
  {
   "cell_type": "code",
   "execution_count": 69,
   "id": "0a6d4b0d-29ee-48df-af1c-ef0070bee2e6",
   "metadata": {},
   "outputs": [],
   "source": [
    "# Check what the RS does for the NULL values.\n",
    "# - We could impute something, like the average score the user gives."
   ]
  },
  {
   "cell_type": "markdown",
   "id": "11d7a78c-980f-49d9-97c5-437d6ccc8916",
   "metadata": {},
   "source": [
    "## Dataframe UDF way\n",
    "It took 2 min and 5 s"
   ]
  },
  {
   "cell_type": "code",
   "execution_count": 70,
   "id": "a966360a-1481-4d68-8c83-8be9b75b3114",
   "metadata": {},
   "outputs": [],
   "source": [
    "# %%time\n",
    "# merged_content.withColumn('yake',get_kw(col('description')))\\\n",
    "# .select(\n",
    "#     expr(\"yake[0]\").alias('keyword_0'),\n",
    "#     expr(\"yake[1]\").alias('keyword_1'),\n",
    "#     expr(\"yake[2]\").alias('keyword_2'),\n",
    "#     expr(\"yake[3]\").alias('keyword_3'),\n",
    "#     expr(\"yake[4]\").alias('keyword_4'),\n",
    "# )\\\n",
    "# .show()\n",
    "# .write.mode('overwrite').parquet('./foo/keywords_full_not_exploded')"
   ]
  },
  {
   "cell_type": "markdown",
   "id": "a4e5f4d4-7fc1-4cb8-b969-ac4781e67630",
   "metadata": {},
   "source": [
    "## Explode way \n",
    "because it is easier to upload in neo4j\n",
    "Takes a lot longer, 3 min 53 seconds."
   ]
  },
  {
   "cell_type": "code",
   "execution_count": 71,
   "id": "c96559bd-83e9-4af2-b393-15021d7966f4",
   "metadata": {},
   "outputs": [
    {
     "name": "stdout",
     "output_type": "stream",
     "text": [
      "CPU times: user 358 µs, sys: 52 µs, total: 410 µs\n",
      "Wall time: 976 µs\n"
     ]
    }
   ],
   "source": [
    "%%time\n",
    "def get_kw(text):\n",
    "   kw_extractor = yake.KeywordExtractor(\n",
    "       lan='en',\n",
    "       n=1,  # Max n-gram size\n",
    "       top=15  # Number of keywords\n",
    "   )\n",
    "    \n",
    "   return list(map(lambda x: str.lower(x[0]) if x else '', kw_extractor.extract_keywords(text)))\n",
    "\n",
    "get_kw = udf(get_kw, ArrayType(StringType()))\n",
    "\n",
    "# merged_content.withColumn('yake',get_kw(col('description')))\\\n",
    "# .select(\n",
    "#     explode(col('yake')).alias('keywords'),\n",
    "#     'description',\n",
    "#     'release_year',\n",
    "#     'type',\n",
    "#     'title',\n",
    "#     'content_id'\n",
    "# )#.write.mode('overwrite').parquet('./foo/keywords_full_2')"
   ]
  },
  {
   "cell_type": "markdown",
   "id": "ce826eeb-01c7-48f7-8f05-beef72d44f23",
   "metadata": {},
   "source": [
    "# Neo4j"
   ]
  },
  {
   "cell_type": "code",
   "execution_count": 85,
   "id": "69ad96b1-0338-40fa-b98b-4fbe599076b7",
   "metadata": {},
   "outputs": [
    {
     "data": {
      "text/plain": [
       "graphName                                             embedding-projection\n",
       "database                                                             neo4j\n",
       "databaseLocation                                                     local\n",
       "memoryUsage                                                               \n",
       "sizeInBytes                                                             -1\n",
       "nodeCount                                                            67626\n",
       "relationshipCount                                                   590278\n",
       "configuration            {'relationshipProjection': {'like': {'aggregat...\n",
       "density                                                           0.000129\n",
       "creationTime                           2024-06-10T08:31:07.568375238+00:00\n",
       "modificationTime                       2024-06-10T08:31:08.932890105+00:00\n",
       "schema                   {'graphProperties': {}, 'nodes': {'content': {...\n",
       "schemaWithOrientation    {'graphProperties': {}, 'nodes': {'content': {...\n",
       "Name: 0, dtype: object"
      ]
     },
     "execution_count": 85,
     "metadata": {},
     "output_type": "execute_result"
    }
   ],
   "source": [
    "# Utility code to drop the Neo4j database\n",
    "# gds.run_cypher('MATCH (n) DETACH DELETE n;')\n",
    "# gds.graph.drop('embedding-projection')"
   ]
  },
  {
   "cell_type": "code",
   "execution_count": 73,
   "id": "00605030-10bc-47fa-9c53-6106c96f8d01",
   "metadata": {},
   "outputs": [],
   "source": [
    "NEO4J_URL = 'bolt://neo4j:7687'"
   ]
  },
  {
   "cell_type": "code",
   "execution_count": 74,
   "id": "b5e999e1-d3f3-4420-9c23-6c7ebc3cc98a",
   "metadata": {},
   "outputs": [],
   "source": [
    "gds = GraphDataScience(\"neo4j://neo4j\",aura_ds=False)"
   ]
  },
  {
   "cell_type": "markdown",
   "id": "e31c679f-247b-4af2-8037-9fb5cad49167",
   "metadata": {},
   "source": [
    "## Uploads Keywords"
   ]
  },
  {
   "cell_type": "code",
   "execution_count": 75,
   "id": "351c19ff-ecd8-4637-80d4-358880a14ff1",
   "metadata": {},
   "outputs": [
    {
     "data": {
      "text/html": [
       "<div>\n",
       "<style scoped>\n",
       "    .dataframe tbody tr th:only-of-type {\n",
       "        vertical-align: middle;\n",
       "    }\n",
       "\n",
       "    .dataframe tbody tr th {\n",
       "        vertical-align: top;\n",
       "    }\n",
       "\n",
       "    .dataframe thead th {\n",
       "        text-align: right;\n",
       "    }\n",
       "</style>\n",
       "<table border=\"1\" class=\"dataframe\">\n",
       "  <thead>\n",
       "    <tr style=\"text-align: right;\">\n",
       "      <th></th>\n",
       "    </tr>\n",
       "  </thead>\n",
       "  <tbody>\n",
       "  </tbody>\n",
       "</table>\n",
       "</div>"
      ],
      "text/plain": [
       "Empty DataFrame\n",
       "Columns: []\n",
       "Index: []"
      ]
     },
     "execution_count": 75,
     "metadata": {},
     "output_type": "execute_result"
    }
   ],
   "source": [
    "gds.run_cypher('CREATE INDEX content_id IF NOT EXISTS FOR (n:content) ON (n.content_id)')\n",
    "gds.run_cypher('CREATE INDEX keywords IF NOT EXISTS FOR (n:keyword) ON (n.keyword)')\n",
    "gds.run_cypher('CREATE INDEX users_id IF NOT EXISTS FOR (n:users) ON (n.users_id)')\n",
    "gds.run_cypher('CREATE INDEX content_type IF NOT EXISTS FOR (n:content) ON (n.type)')"
   ]
  },
  {
   "cell_type": "code",
   "execution_count": 76,
   "id": "ff72bbb4-de20-4ceb-ac34-4e3b6293fffe",
   "metadata": {},
   "outputs": [
    {
     "name": "stdout",
     "output_type": "stream",
     "text": [
      "CPU times: user 294 ms, sys: 131 ms, total: 425 ms\n",
      "Wall time: 43min 24s\n"
     ]
    }
   ],
   "source": [
    "%%time\n",
    "kw_df = (\n",
    "    merged_content\n",
    "    .withColumn('yake',get_kw(col('description')))\n",
    "    .select(\n",
    "        explode(col('yake')).alias('keywords'),\n",
    "        'description',\n",
    "        'release_year',\n",
    "        'type',\n",
    "        'title',\n",
    "        'content_id'\n",
    "    )\n",
    ")\n",
    "\n",
    "for kind in CONTENTS:\n",
    "    (\n",
    "        kw_df.filter(col('type') == kind).write\n",
    "        # // Create new relationships\n",
    "        .mode('Append')\n",
    "        .format(\"org.neo4j.spark.DataSource\")\n",
    "        # // Assign a type to the relationships\n",
    "        .option(\"relationship\", \"has_keyword\")\n",
    "        # // Use `keys` strategy\n",
    "        .option(\"relationship.save.strategy\", \"keys\")\n",
    "        # // Overwrite source nodes and assign them a label\n",
    "        .option(\"relationship.source.save.mode\", \"Overwrite\")\n",
    "        # .option(\"relationship.source.labels\", f\":{kind}\")\n",
    "        .option(\"relationship.source.labels\", ':content')\n",
    "        # // Map the DataFrame columns to node properties\n",
    "        .option(\"relationship.source.node.properties\", \"title,content_id,type,description\")\n",
    "        # // Node keys are mandatory for overwrite save mode\n",
    "        .option(\"relationship.source.node.keys\", \"content_id,type\")\n",
    "        # // Overwrite target nodes and assign them a label\n",
    "        .option(\"relationship.target.save.mode\", \"Overwrite\")\n",
    "        .option(\"relationship.target.labels\", \":keyword\")\n",
    "        # // Map the DataFrame columns to node properties\n",
    "        .option(\"relationship.target.node.properties\", \"keywords\")\n",
    "        # // Node keys are mandatory for overwrite save mode\n",
    "        .option(\"relationship.target.node.keys\", \"keywords\")\n",
    "        # // Map the DataFrame columns to relationship properties\n",
    "        # .option(\"relationship.properties\", \"quantity,order\")\n",
    "        .option(\"url\", NEO4J_URL)\n",
    "        .save()\n",
    "    )"
   ]
  },
  {
   "cell_type": "markdown",
   "id": "60298842-0483-4f9c-9c31-3fa8f48828f7",
   "metadata": {},
   "source": [
    "## Upload users"
   ]
  },
  {
   "cell_type": "code",
   "execution_count": 77,
   "id": "8b5635c9-0360-4c93-bdaa-3f8cbf58b1b6",
   "metadata": {},
   "outputs": [],
   "source": [
    "filter_users = merged_users\\\n",
    ".join(\n",
    "    merged_content, \n",
    "    (merged_content.type == merged_users.type) & (merged_content.content_id == merged_users.content_id), \n",
    "    how='right'\n",
    ").select(['user_id',merged_users['type'],merged_users['content_id'],'rating'])"
   ]
  },
  {
   "cell_type": "code",
   "execution_count": 83,
   "id": "a8ea1782-eb2e-47a0-b974-cef8d88330e1",
   "metadata": {},
   "outputs": [
    {
     "name": "stdout",
     "output_type": "stream",
     "text": [
      "CPU times: user 41.6 ms, sys: 25.7 ms, total: 67.3 ms\n",
      "Wall time: 3min 55s\n"
     ]
    }
   ],
   "source": [
    "%%time\n",
    "# TODO: Fix the \"double run\" bug\n",
    "for kind in CONTENTS:\n",
    "    for r_type in ['like', 'dislike']:\n",
    "        if r_type == 'like':\n",
    "            df = filter_users.filter(col('rating') >= 8)\n",
    "        else :\n",
    "            df = filter_users.filter((col('rating') >= 1) & (col('rating')<8))\n",
    "        (\n",
    "        df.filter(col('type') == kind).write\n",
    "          # // Create new relationships\n",
    "          .mode('Append')\n",
    "          .format(\"org.neo4j.spark.DataSource\")\n",
    "          # // Assign a type to the relationships\n",
    "          .option(\"relationship\", r_type)\n",
    "          # // Use `keys` strategy\n",
    "          .option(\"relationship.save.strategy\", \"keys\")\n",
    "          # // Overwrite source nodes and assign them a label\n",
    "          .option(\"relationship.source.save.mode\", \"Overwrite\")\n",
    "          # .option(\"relationship.source.labels\", f\":{kind}\")\n",
    "          .option(\"relationship.source.labels\", ':content')\n",
    "          # // Map the DataFrame columns to node properties\n",
    "          # .option(\"relationship.source.node.properties\", \"content_id,type\")\n",
    "          # // Node keys are mandatory for overwrite save mode\n",
    "          .option(\"relationship.source.node.keys\", \"content_id,type\")\n",
    "          # // Overwrite target nodes and assign them a label\n",
    "          .option(\"relationship.target.save.mode\", \"Overwrite\")\n",
    "          .option(\"relationship.target.labels\", \":users\")\n",
    "          # // Map the DataFrame columns to node properties\n",
    "          # .option(\"relationship.target.node.properties\", \"user_id,type\")\n",
    "          # // Node keys are mandatory for overwrite save mode\n",
    "          .option(\"relationship.target.node.keys\", \"user_id,type\")\n",
    "          # // Map the DataFrame columns to relationship properties\n",
    "          # .option(\"relationship.properties\", \"rating_date\")\n",
    "          .option(\"url\", NEO4J_URL)\n",
    "          .save()\n",
    "        )"
   ]
  },
  {
   "cell_type": "markdown",
   "id": "3cfc8264-ee89-4756-ac8b-6637aeee89fa",
   "metadata": {},
   "source": [
    "## Neo4j Data Science"
   ]
  },
  {
   "cell_type": "code",
   "execution_count": 86,
   "id": "dbb6f771-d979-4fd9-a8cf-9c2b29100662",
   "metadata": {},
   "outputs": [
    {
     "data": {
      "text/plain": [
       "nodeProjection            {'content': {'label': 'content', 'properties':...\n",
       "relationshipProjection    {'like': {'aggregation': 'DEFAULT', 'orientati...\n",
       "graphName                                              embedding-projection\n",
       "nodeCount                                                             71089\n",
       "relationshipCount                                                    840430\n",
       "projectMillis                                                           109\n",
       "Name: 0, dtype: object"
      ]
     },
     "execution_count": 86,
     "metadata": {},
     "output_type": "execute_result"
    }
   ],
   "source": [
    "# Project the graph embedding\n",
    "g0, res = gds.graph.project(\n",
    "    'embedding-projection', \n",
    "    ['content', 'users','keyword' ],\n",
    "    {\n",
    "        'like':{'orientation':'UNDIRECTED'},\n",
    "        # 'dislike':{'orientation':'UNDIRECTED'},\n",
    "        'has_keyword':{'orientation':'UNDIRECTED'},\n",
    "    },\n",
    ")\n",
    "res"
   ]
  },
  {
   "cell_type": "code",
   "execution_count": 87,
   "id": "120241a7-9962-4bff-bed3-672a1ed5f7b5",
   "metadata": {},
   "outputs": [
    {
     "name": "stdout",
     "output_type": "stream",
     "text": [
      "CPU times: user 662 µs, sys: 3.45 ms, total: 4.11 ms\n",
      "Wall time: 170 ms\n"
     ]
    }
   ],
   "source": [
    "%%time\n",
    "# gds.beta.graphSage.mutate(g0, mutateProperty='embedding', embeddingDimension=50, randomSeed=7474, relationshipWeightProperty='weight');\n",
    "# gds.beta.graphSage.mutate(g0, mutateProperty='embedding',modelName='exampleTrainModel');\n",
    "gds.fastRP.mutate(g0, mutateProperty='embedding', embeddingDimension=256, randomSeed=7474);"
   ]
  },
  {
   "cell_type": "code",
   "execution_count": 88,
   "id": "e1839bd1-783d-4511-b2f1-b961d654f654",
   "metadata": {},
   "outputs": [
    {
     "data": {
      "text/plain": [
       "writeMillis                           588\n",
       "graphName            embedding-projection\n",
       "nodeProperties                [embedding]\n",
       "propertiesWritten                   23575\n",
       "Name: 0, dtype: object"
      ]
     },
     "execution_count": 88,
     "metadata": {},
     "output_type": "execute_result"
    }
   ],
   "source": [
    "gds.graph.writeNodeProperties(g0, [\"embedding\"], [\"content\",\"users\"])"
   ]
  },
  {
   "cell_type": "markdown",
   "id": "8fc0bbe4-8f6d-491c-8953-ce27cab5ce1b",
   "metadata": {},
   "source": [
    "## Centrality"
   ]
  },
  {
   "cell_type": "code",
   "execution_count": 89,
   "id": "ad74d996-3fdc-4394-a8b8-fa3d1c925bde",
   "metadata": {},
   "outputs": [
    {
     "name": "stdout",
     "output_type": "stream",
     "text": [
      "CPU times: user 2.4 ms, sys: 4.73 ms, total: 7.13 ms\n",
      "Wall time: 409 ms\n"
     ]
    },
    {
     "data": {
      "text/plain": [
       "writeMillis                            66\n",
       "graphName            embedding-projection\n",
       "nodeProperties               [centrality]\n",
       "propertiesWritten                   19880\n",
       "Name: 0, dtype: object"
      ]
     },
     "execution_count": 89,
     "metadata": {},
     "output_type": "execute_result"
    }
   ],
   "source": [
    "%%time\n",
    "# ArticleRank is a variant of the Page Rank algorithm, which measures the transitive influence of nodes.\n",
    "gds.run_cypher('''\n",
    "    CALL gds.articleRank.mutate('embedding-projection', {\n",
    "      mutateProperty: 'centrality'\n",
    "    })\n",
    "    YIELD nodePropertiesWritten, ranIterations\n",
    "    '''\n",
    ")\n",
    "\n",
    "gds.graph.writeNodeProperties(g0, [\"centrality\"], [\"content\"])"
   ]
  },
  {
   "cell_type": "markdown",
   "id": "f9867a9c-82b3-4210-a381-78e15bba660d",
   "metadata": {},
   "source": [
    "## Page Rank"
   ]
  },
  {
   "cell_type": "code",
   "execution_count": 90,
   "id": "1a1c24ee-33c8-42c7-b831-7c901f503e3f",
   "metadata": {},
   "outputs": [
    {
     "name": "stdout",
     "output_type": "stream",
     "text": [
      "CPU times: user 5.67 ms, sys: 198 µs, total: 5.86 ms\n",
      "Wall time: 285 ms\n"
     ]
    },
    {
     "data": {
      "text/plain": [
       "writeMillis                            61\n",
       "graphName            embedding-projection\n",
       "nodeProperties                 [pagerank]\n",
       "propertiesWritten                   19880\n",
       "Name: 0, dtype: object"
      ]
     },
     "execution_count": 90,
     "metadata": {},
     "output_type": "execute_result"
    }
   ],
   "source": [
    "%%time\n",
    "gds.run_cypher('''\n",
    "CALL gds.pageRank.mutate('embedding-projection', {\n",
    "  maxIterations: 20,\n",
    "  dampingFactor: 0.85,\n",
    "  mutateProperty: 'pagerank'\n",
    "})\n",
    "YIELD nodePropertiesWritten, ranIterations\n",
    "''')\n",
    "gds.graph.writeNodeProperties(g0, [\"pagerank\"], [\"content\"])"
   ]
  },
  {
   "cell_type": "code",
   "execution_count": null,
   "id": "657d3572-f8d2-40ec-8e07-adb0a7c331b6",
   "metadata": {},
   "outputs": [],
   "source": [
    "def get_recommendation_raw(content_id, origin_kind, destination_kind, limit):\n",
    "    result = gds.run_cypher( '''\n",
    "    MATCH (c1:content {content_id:$CONTENT_ID, type:$ORIGIN_KIND})\n",
    "    MATCH (c2:content {type:$DESTINATION_KIND})\n",
    "    WHERE (id(c1) <> id(c2))\n",
    "    WITH c1, c2, gds.similarity.cosine(c1.embedding, c2.embedding) AS cosineSimilarity\n",
    "    RETURN c2.type,c2.title,c2.content_id, cosineSimilarity\n",
    "    order by cosineSimilarity DESC\n",
    "    limit $LIMIT\n",
    "        ''', params={\n",
    "        'CONTENT_ID': content_id, \n",
    "        'ORIGIN_KIND':origin_kind, \n",
    "        'DESTINATION_KIND':destination_kind,\n",
    "        'LIMIT':limit\n",
    "        })\n",
    "    result = result.dropna()\n",
    "    return [tuple(r)[:3] for r in result.values]\n",
    "\n",
    "def get_id_from_text(text, kind):\n",
    "    result = gds.run_cypher( '''\n",
    "        MATCH (n:content)\n",
    "        WHERE toLower(n.title) CONTAINS toLower($text)\n",
    "        RETURN n.content_id, n.type\n",
    "        ''', params={'text': text}\n",
    "    )\n",
    "\n",
    "    result = result.dropna()\n",
    "    return result.values[0]\n",
    "\n",
    "\n",
    "def get_recommendation(text, kind):\n",
    "    idd, origin_kind = get_id_from_text(text, kind)\n",
    "    result = []\n",
    "    for destination_kind in CONTENTS:\n",
    "        result += get_recommendation_raw(idd, origin_kind, destination_kind, 8)\n",
    "    return result\n",
    "\n",
    "\n",
    "def get_recommendation_for(content_name, kind):\n",
    "    \"\"\"\n",
    "    This function controls the recommendations being used for a given content.\n",
    "    It provides a content_name and kind.\n",
    "    \"\"\"\n",
    "    return get_recommendation(content_name, kind)[:8]\n",
    "\n",
    "\n",
    "get_recommendation_for('berserk', 'anime')"
   ]
  },
  {
   "cell_type": "code",
   "execution_count": null,
   "id": "cf10ab48-1366-40cd-a5e8-5c80c58f4299",
   "metadata": {
    "scrolled": true
   },
   "outputs": [],
   "source": [
    "merged_content.filter(merged_content['type'] == 'anime').orderBy('title').show(500)"
   ]
  },
  {
   "cell_type": "code",
   "execution_count": null,
   "id": "4376a0b4-5f62-4c26-81cd-7159d9aa083b",
   "metadata": {},
   "outputs": [],
   "source": [
    "foo = gds.run_cypher('MATCH(n:content) RETURN n.content_id, n.embedding LIMIT 1000')"
   ]
  },
  {
   "cell_type": "code",
   "execution_count": null,
   "id": "bd86a8b9-4763-40c0-9448-d0c00d3ea8cd",
   "metadata": {},
   "outputs": [],
   "source": [
    "# Sanity check, embeddings should be different\n",
    "\n",
    "# import seaborn as sns\n",
    "foo['sum'] = foo['n.embedding'].apply(np.sum)\n",
    "foo['sum'].value_counts()"
   ]
  },
  {
   "cell_type": "code",
   "execution_count": null,
   "id": "503fd275-19ae-4c7a-b208-251697d77569",
   "metadata": {},
   "outputs": [],
   "source": [
    "def get_recommendation_raw(content_id, origin_kind, destination_kind, limit):\n",
    "    '''\n",
    "        given the origin content_id and origin type\n",
    "        give me all the results \n",
    "    '''\n",
    "    result = gds.run_cypher( '''\n",
    "    MATCH (c1:content {content_id:$CONTENT_ID, type:$ORIGIN_KIND})\n",
    "    MATCH (c2:content {type:$DESTINATION_KIND})\n",
    "    WHERE (id(c1) <> id(c2))\n",
    "    WITH c1, c2, gds.similarity.cosine(c1.embedding, c2.embedding) AS cosineSimilarity\n",
    "    RETURN c2.type,c2.title,c2.content_id, cosineSimilarity\n",
    "    order by cosineSimilarity DESC\n",
    "    limit $LIMIT\n",
    "        ''', params={\n",
    "        'CONTENT_ID': content_id, \n",
    "        'ORIGIN_KIND':origin_kind, \n",
    "        'DESTINATION_KIND':destination_kind,\n",
    "        'LIMIT':limit\n",
    "        })\n",
    "    result = result.dropna()\n",
    "    return [tuple(r)[:3] for r in result.values]\n",
    "\n",
    "content_id = '34096'\n",
    "origin_kind = 'anime'\n",
    "destination_kind = 'videogame'\n",
    "get_recommendation_raw(content_id, origin_kind, destination_kind, 10)"
   ]
  },
  {
   "cell_type": "code",
   "execution_count": null,
   "id": "b8605c76-609f-427f-a073-70c37a66888d",
   "metadata": {},
   "outputs": [],
   "source": [
    "def get_id_from_text(text):\n",
    "    result = gds.run_cypher( '''\n",
    "    MATCH (n:content)\n",
    "    WHERE toLower(n.title) CONTAINS toLower($text)\n",
    "    RETURN n.content_id, n.type\n",
    "        ''', params={'text': text})\n",
    "    result = result.dropna()\n",
    "    return result.values[0]\n",
    "\n",
    "def get_recommendation(text):\n",
    "    id, origin_kind = get_id_from_text(text)\n",
    "    result = []\n",
    "    for destination_kind in CONTENTS:\n",
    "        result += get_recommendation_raw(id, origin_kind, destination_kind, 8)\n",
    "    return result\n",
    "\n",
    "get_recommendation('berserk')"
   ]
  }
 ],
 "metadata": {
  "kernelspec": {
   "display_name": "Python 3 (ipykernel)",
   "language": "python",
   "name": "python3"
  },
  "language_info": {
   "codemirror_mode": {
    "name": "ipython",
    "version": 3
   },
   "file_extension": ".py",
   "mimetype": "text/x-python",
   "name": "python",
   "nbconvert_exporter": "python",
   "pygments_lexer": "ipython3",
   "version": "3.11.4"
  }
 },
 "nbformat": 4,
 "nbformat_minor": 5
}
