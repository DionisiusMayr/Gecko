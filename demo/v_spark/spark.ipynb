{
 "cells": [
  {
   "cell_type": "code",
   "execution_count": 1,
   "id": "51ce1c7a-518d-4807-87c3-3492c84d77ff",
   "metadata": {},
   "outputs": [],
   "source": [
    "from pyspark.sql import SparkSession\n",
    "from pyspark.sql.functions import col, length, from_json, expr, split, lit, to_date, explode, count, lower, trim, regexp_replace, substring\n",
    "from pyspark.sql.types import StringType, StructType, StructField, MapType, ArrayType, DoubleType, DateType, IntegerType"
   ]
  },
  {
   "cell_type": "code",
   "execution_count": 2,
   "id": "1c91417f-b56f-46c2-92f0-ca11a50ecda9",
   "metadata": {},
   "outputs": [],
   "source": [
    "import xml.etree.ElementTree as ET\n",
    "import requests\n",
    "import os\n",
    "import collections\n",
    "import time\n",
    "import html\n",
    "\n",
    "import pandas as pd\n",
    "import yake\n",
    "import numpy as np\n",
    "from tqdm import tqdm"
   ]
  },
  {
   "cell_type": "code",
   "execution_count": 3,
   "id": "d0ef305d-6533-496e-84d8-f97d3bcc8776",
   "metadata": {},
   "outputs": [],
   "source": [
    "import utils"
   ]
  },
  {
   "cell_type": "code",
   "execution_count": 4,
   "id": "15ab211d-7ed4-4e16-8301-066b2549d07a",
   "metadata": {},
   "outputs": [],
   "source": [
    "AWS_ACCESS_KEY_ID = 'test_key_id'\n",
    "AWS_SECRET_ACCESS_KEY = 'test_access_key'\n",
    "HOST = 's3'\n",
    "ENDPOINT_URL = f'http://{HOST}:4566'\n",
    "\n",
    "TEMP_DIR = './local_data'"
   ]
  },
  {
   "cell_type": "code",
   "execution_count": 5,
   "id": "e3a09f6c-5799-4317-ae78-30c7152f45ba",
   "metadata": {},
   "outputs": [],
   "source": [
    "spark = SparkSession.builder.getOrCreate()"
   ]
  },
  {
   "cell_type": "markdown",
   "id": "ea9d6d00-b1f2-4767-a0b8-15e3fa0dbd96",
   "metadata": {},
   "source": [
    "# Collect data from S3"
   ]
  },
  {
   "cell_type": "code",
   "execution_count": 6,
   "id": "075e42ba-a87a-4d99-9719-bc4ea00a1883",
   "metadata": {},
   "outputs": [],
   "source": [
    "CONTENTS = ['movie/review', 'movie/info', 'boardgame/boardgame', 'boardgame/collection', 'videogame']#, 'anime']\n",
    "# CONTENTS = ['movie/review']#, 'boardgame', 'videogame']#, 'anime']"
   ]
  },
  {
   "cell_type": "code",
   "execution_count": 7,
   "id": "4d8ad300-9823-40a2-bd4a-83f803a60af1",
   "metadata": {
    "scrolled": true
   },
   "outputs": [],
   "source": [
    "def download_raw_data_of_content(content):\n",
    "    print(f'Downloading raw-data of {content}...')\n",
    "    s3 = utils.S3_conn()\n",
    "    keys = s3.get_keys_with_prefix('raw-data', content)\n",
    "    target_dir = f\"{TEMP_DIR}/{content}\"\n",
    "    \n",
    "    if not os.path.exists(target_dir):\n",
    "        os.makedirs(target_dir)\n",
    "    \n",
    "    for key in tqdm(keys):\n",
    "        local_file_path = f'{target_dir}/{key[len(content) + 1:]}'# os.path.join(target_dir, key[len(kind):])\n",
    "        local_file_dir = os.path.dirname(local_file_path)\n",
    "        if not os.path.exists(local_file_dir):\n",
    "            os.makedirs(local_file_dir)\n",
    "    \n",
    "        s3.s3_client.download_file('raw-data', key, local_file_path)"
   ]
  },
  {
   "cell_type": "code",
   "execution_count": 66,
   "id": "f0fcf0c1-7e96-41d5-9e59-748d1e883be6",
   "metadata": {},
   "outputs": [
    {
     "name": "stdout",
     "output_type": "stream",
     "text": [
      "Downloading raw-data of movie/review...\n"
     ]
    },
    {
     "name": "stderr",
     "output_type": "stream",
     "text": [
      "100%|██████████| 1000/1000 [00:14<00:00, 70.83it/s]\n"
     ]
    },
    {
     "name": "stdout",
     "output_type": "stream",
     "text": [
      "Downloading raw-data of movie/info...\n"
     ]
    },
    {
     "name": "stderr",
     "output_type": "stream",
     "text": [
      "100%|██████████| 1000/1000 [00:16<00:00, 61.20it/s]\n"
     ]
    },
    {
     "name": "stdout",
     "output_type": "stream",
     "text": [
      "Downloading raw-data of boardgame/boardgame...\n"
     ]
    },
    {
     "name": "stderr",
     "output_type": "stream",
     "text": [
      "100%|██████████| 1000/1000 [00:14<00:00, 67.29it/s]\n"
     ]
    },
    {
     "name": "stdout",
     "output_type": "stream",
     "text": [
      "Downloading raw-data of boardgame/collection...\n"
     ]
    },
    {
     "name": "stderr",
     "output_type": "stream",
     "text": [
      "100%|██████████| 657/657 [00:10<00:00, 61.73it/s] \n"
     ]
    },
    {
     "name": "stdout",
     "output_type": "stream",
     "text": [
      "Downloading raw-data of videogame...\n"
     ]
    },
    {
     "name": "stderr",
     "output_type": "stream",
     "text": [
      "100%|██████████| 3/3 [00:02<00:00,  1.48it/s]"
     ]
    },
    {
     "name": "stdout",
     "output_type": "stream",
     "text": [
      "CPU times: user 29.5 s, sys: 6.16 s, total: 35.7 s\n",
      "Wall time: 58.4 s\n"
     ]
    },
    {
     "name": "stderr",
     "output_type": "stream",
     "text": [
      "\n"
     ]
    }
   ],
   "source": [
    "%%time\n",
    "for content in CONTENTS:\n",
    "    download_raw_data_of_content(content)"
   ]
  },
  {
   "cell_type": "markdown",
   "id": "b853d745-744a-4313-a01c-ffe7901bed4b",
   "metadata": {},
   "source": [
    "# Transform data"
   ]
  },
  {
   "cell_type": "code",
   "execution_count": 8,
   "id": "202f783a-4317-4a14-a13d-8620f8747c5d",
   "metadata": {},
   "outputs": [],
   "source": [
    "s3 = utils.S3_conn()"
   ]
  },
  {
   "cell_type": "code",
   "execution_count": 9,
   "id": "75bea88f-cb36-4efa-9173-d423beee889e",
   "metadata": {},
   "outputs": [],
   "source": [
    "def store_processed_parquet(local_directory, prefix):\n",
    "    bucket_name = 'processed-data'\n",
    "    \n",
    "    for root, dirs, files in tqdm(os.walk(local_directory)):\n",
    "        for filename in files:\n",
    "            # Construct the full local path\n",
    "            local_path = os.path.join(root, filename)\n",
    "            \n",
    "            # Construct the relative path for S3\n",
    "            relative_path = os.path.relpath(local_path, local_directory)\n",
    "            s3_path = os.path.join(prefix, relative_path).replace(\"\\\\\", \"/\")  # Ensure Unix-style paths for S3\n",
    "            \n",
    "            # Upload the file to S3\n",
    "            s3.s3_client.upload_file(local_path, bucket_name, s3_path)\n",
    "            # print(f'Uploaded {local_path} to s3://{bucket_name}/{s3_path}\\n')"
   ]
  },
  {
   "cell_type": "markdown",
   "id": "ad06d713-5c41-4488-b880-70f67db856d5",
   "metadata": {},
   "source": [
    "## Boardgames"
   ]
  },
  {
   "cell_type": "code",
   "execution_count": 10,
   "id": "fdc5fcd0-6d6f-434b-bf0e-a0129a455734",
   "metadata": {},
   "outputs": [],
   "source": [
    "BOARDGAME_USERS_XML_PATH = './local_data/boardgame/collection'\n",
    "BOARDGAME_USERS_PARQUET_PATH = './local_data/boardgame/processed_data/boardgame_users.parquet'\n",
    "BOARDGAME_CONTENT_XML_PATH = './local_data/boardgame/boardgame'\n",
    "BOARDGAME_CONTENT_PARQUET_PATH = './local_data/boardgame/processed_data/boardgame_content.parquet'"
   ]
  },
  {
   "cell_type": "code",
   "execution_count": 11,
   "id": "3a4f933a-364d-4706-9f62-623688200523",
   "metadata": {},
   "outputs": [],
   "source": [
    "def xml_boardgame_to_dataframe():\n",
    "    df_content_id = []\n",
    "    df_content_description = []\n",
    "    df_content_year = []\n",
    "\n",
    "    for folder in os.listdir(BOARDGAME_CONTENT_XML_PATH):\n",
    "        with open(f\"{BOARDGAME_CONTENT_XML_PATH}/{folder}/1.xml\", 'r') as f:\n",
    "            r_text = f.read()\n",
    "        df_content_id.append(folder)\n",
    "        root = ET.fromstring(r_text)\n",
    "        for bg in root:\n",
    "            for field in bg:\n",
    "                if field.tag == 'description':\n",
    "                    df_content_description.append(html.unescape(field.text))\n",
    "                if field.tag == 'yearpublished':\n",
    "                    df_content_year.append(int(field.attrib['value']))\n",
    "\n",
    "    return pd.DataFrame({\n",
    "        'content_id': pd.Series(df_content_id, dtype='str'),\n",
    "        'description': pd.Series(df_content_description, dtype='str'),\n",
    "        'release_year': pd.Series(df_content_year, dtype='Int16')\n",
    "    })"
   ]
  },
  {
   "cell_type": "code",
   "execution_count": 12,
   "id": "8b255246-7a58-4a95-9f76-5cff2887ddfd",
   "metadata": {},
   "outputs": [],
   "source": [
    "def create_boardgame_content_parquet():\n",
    "    schema = StructType([\n",
    "        StructField(\"content_id\", StringType(), True),\n",
    "        StructField(\"description\", StringType(), True),\n",
    "        StructField(\"release_year\", IntegerType(), True)\n",
    "    ])\n",
    "    \n",
    "    df = xml_boardgame_to_dataframe()\n",
    "    df['description'] = df['description'].astype('str')\n",
    "    df = df.replace([np.nan], [None])\n",
    "    \n",
    "    boardgame_content = (\n",
    "        spark\n",
    "        .createDataFrame(df, schema=schema)\n",
    "        .withColumn('type', lit('boardgame'))\n",
    "    )\n",
    "    \n",
    "    # Save parquet to processed-data zone\n",
    "    boardgame_content.write.mode('overwrite').parquet(BOARDGAME_CONTENT_PARQUET_PATH)"
   ]
  },
  {
   "cell_type": "code",
   "execution_count": 13,
   "id": "812dec24-234c-4d63-8b60-8cec03fc0a69",
   "metadata": {},
   "outputs": [],
   "source": [
    "def get_boardgame_content_df():\n",
    "    boardgame_content = spark.read.parquet(BOARDGAME_CONTENT_PARQUET_PATH)\n",
    "    return boardgame_content"
   ]
  },
  {
   "cell_type": "code",
   "execution_count": 14,
   "id": "8435fc23-0e3a-4a3d-9c57-721db3a057f9",
   "metadata": {},
   "outputs": [],
   "source": [
    "def xml_collection_to_dataframe(xml_file) -> pd.DataFrame:\n",
    "    with open(xml_file, 'r') as f:\n",
    "        r_text = f.read()\n",
    "        root = ET.fromstring(r_text)\n",
    "\n",
    "    df_user_id = []\n",
    "    df_type = []\n",
    "    df_content_id = []\n",
    "    df_rating = []\n",
    "    df_rating_date = []\n",
    "    \n",
    "    for bg in root:\n",
    "        bg_name = bg[0].text\n",
    "        coll_id = bg.attrib['collid']  # I don't really know what this is, but I guess it is the id of this instance of the boardgame in the list\n",
    "        object_id = bg.attrib['objectid']  # This is the boardgame identifier\n",
    "\n",
    "        rating_val = None\n",
    "        for field in bg:\n",
    "            if field.tag == 'stats':\n",
    "                rating_val = field[0].attrib['value']\n",
    "                if rating_val == 'N/A':\n",
    "                    rating_val = None\n",
    "            if field.tag == 'yearpublished':\n",
    "                year_published = field.text\n",
    "            if field.tag == 'status':\n",
    "                date_of_rating = field.attrib['lastmodified']  # Not really the rating date, but it is as close as possible with the current information.\n",
    "\n",
    "        # print(user_id, 'boardgame', object_id, rating_val, date_of_rating)\n",
    "        # print(bg_name, rating_val, year_published, coll_id, object_id)\n",
    "        df_user_id.append(xml_file.split('/')[-1][:-4])\n",
    "        df_type.append('boardgame')\n",
    "        df_content_id.append(object_id)\n",
    "        df_rating.append(rating_val)\n",
    "        df_rating_date.append(date_of_rating)\n",
    "\n",
    "    return pd.DataFrame({\n",
    "        'user_id': pd.Series(df_user_id, dtype='str'),\n",
    "        'type': pd.Series(df_type, dtype='category'),\n",
    "        'content_id': pd.Series(df_content_id, dtype='str'),\n",
    "        'rating': pd.Series(df_rating, dtype='float64'),\n",
    "        'rating_date': pd.Series(df_rating_date, dtype='datetime64[ms]')\n",
    "    })"
   ]
  },
  {
   "cell_type": "code",
   "execution_count": 15,
   "id": "5324700f-1612-462c-9197-d49d3e624d44",
   "metadata": {},
   "outputs": [],
   "source": [
    "def create_boardgame_users_parquet():\n",
    "    if not os.path.exists(BOARDGAME_USERS_PARQUET_PATH):\n",
    "        os.makedirs(BOARDGAME_USERS_PARQUET_PATH)\n",
    "        \n",
    "    for xml in filter(lambda x: x.endswith('.xml'), os.listdir(BOARDGAME_USERS_XML_PATH)):\n",
    "        try:\n",
    "            df = xml_collection_to_dataframe(f'{BOARDGAME_USERS_XML_PATH}/{xml}')\n",
    "            parquet_path = f'{BOARDGAME_USERS_PARQUET_PATH}/{xml[:-4]}.parquet'\n",
    "            df.to_parquet(parquet_path)\n",
    "        except Exception as e:\n",
    "            print(e)\n",
    "            print(f'Error: Invalid xml file: {xml}')"
   ]
  },
  {
   "cell_type": "code",
   "execution_count": 16,
   "id": "ef9f92b5-1106-4495-bc12-6849ada2478c",
   "metadata": {},
   "outputs": [],
   "source": [
    "def get_boardgame_users_df():\n",
    "    boardgame_users = spark.read.parquet(BOARDGAME_USERS_PARQUET_PATH)\n",
    "    return boardgame_users"
   ]
  },
  {
   "cell_type": "code",
   "execution_count": 17,
   "id": "480f3005-c860-4b60-a20a-0b3516dfdb1f",
   "metadata": {
    "scrolled": true
   },
   "outputs": [
    {
     "name": "stdout",
     "output_type": "stream",
     "text": [
      "'collid'\n",
      "Error: Invalid xml file: Century.xml\n",
      "'collid'\n",
      "Error: Invalid xml file: Icythistle.xml\n",
      "'collid'\n",
      "Error: Invalid xml file: ItsCharlieVP.xml\n",
      "'collid'\n",
      "Error: Invalid xml file: nugenet.xml\n",
      "'collid'\n",
      "Error: Invalid xml file: marioymia.xml\n",
      "'collid'\n",
      "Error: Invalid xml file: RobMcWiz.xml\n",
      "'collid'\n",
      "Error: Invalid xml file: zigooloo.xml\n",
      "'collid'\n",
      "Error: Invalid xml file: Halenor.xml\n"
     ]
    }
   ],
   "source": [
    "create_boardgame_users_parquet()"
   ]
  },
  {
   "cell_type": "code",
   "execution_count": 18,
   "id": "5ded81b9-f2a3-483b-9243-086502c2e2b1",
   "metadata": {},
   "outputs": [
    {
     "name": "stdout",
     "output_type": "stream",
     "text": [
      "+-----------+---------+----------+------+-------------------+\n",
      "|    user_id|     type|content_id|rating|        rating_date|\n",
      "+-----------+---------+----------+------+-------------------+\n",
      "|zefquaavius|boardgame|    322232|   6.0|2023-08-01 14:52:32|\n",
      "|zefquaavius|boardgame|    296402|   8.0|2023-08-02 14:18:24|\n",
      "|zefquaavius|boardgame|    336537|  null|2023-08-02 14:18:38|\n",
      "|zefquaavius|boardgame|    314445|  null|2023-08-02 14:18:54|\n",
      "|zefquaavius|boardgame|    296404|  null|2023-08-02 14:19:11|\n",
      "+-----------+---------+----------+------+-------------------+\n",
      "only showing top 5 rows\n",
      "\n",
      "root\n",
      " |-- user_id: string (nullable = true)\n",
      " |-- type: string (nullable = true)\n",
      " |-- content_id: string (nullable = true)\n",
      " |-- rating: double (nullable = true)\n",
      " |-- rating_date: timestamp_ntz (nullable = true)\n",
      "\n"
     ]
    }
   ],
   "source": [
    "boardgame_users = get_boardgame_users_df()\n",
    "boardgame_users.show(5)\n",
    "boardgame_users.printSchema()"
   ]
  },
  {
   "cell_type": "code",
   "execution_count": 19,
   "id": "1b0bce9c-6e4d-4d53-b054-71f531f3d5e9",
   "metadata": {},
   "outputs": [],
   "source": [
    "create_boardgame_content_parquet()"
   ]
  },
  {
   "cell_type": "code",
   "execution_count": 20,
   "id": "a9517615-8a64-4321-be33-963add4e875f",
   "metadata": {},
   "outputs": [
    {
     "name": "stdout",
     "output_type": "stream",
     "text": [
      "+----------+--------------------+------------+---------+\n",
      "|content_id|         description|release_year|     type|\n",
      "+----------+--------------------+------------+---------+\n",
      "|      1117|Classic bidding a...|        1985|boardgame|\n",
      "|      1086|In Treasure of th...|        1998|boardgame|\n",
      "|    107704|Fief is a game of...|        2011|boardgame|\n",
      "|     10226|Thunder at the Cr...|        1993|boardgame|\n",
      "|    104351|Raphia\\n\\nThe Bat...|        2011|boardgame|\n",
      "+----------+--------------------+------------+---------+\n",
      "only showing top 5 rows\n",
      "\n",
      "root\n",
      " |-- content_id: string (nullable = true)\n",
      " |-- description: string (nullable = true)\n",
      " |-- release_year: integer (nullable = true)\n",
      " |-- type: string (nullable = true)\n",
      "\n"
     ]
    }
   ],
   "source": [
    "boardgame_content = get_boardgame_content_df()\n",
    "boardgame_content.show(5)\n",
    "boardgame_content.printSchema()"
   ]
  },
  {
   "cell_type": "code",
   "execution_count": 21,
   "id": "ed41e521-3d92-4ecd-9236-829d70711e50",
   "metadata": {},
   "outputs": [
    {
     "name": "stderr",
     "output_type": "stream",
     "text": [
      "1it [00:06,  6.28s/it]\n"
     ]
    }
   ],
   "source": [
    "store_processed_parquet(BOARDGAME_USERS_PARQUET_PATH, prefix='boardgame')"
   ]
  },
  {
   "cell_type": "code",
   "execution_count": 22,
   "id": "108452b6-99ad-4a63-9a11-47bf84e5f39a",
   "metadata": {},
   "outputs": [
    {
     "name": "stderr",
     "output_type": "stream",
     "text": [
      "1it [00:00,  5.21it/s]\n"
     ]
    }
   ],
   "source": [
    "store_processed_parquet(BOARDGAME_CONTENT_PARQUET_PATH, prefix='boardgame')"
   ]
  },
  {
   "cell_type": "markdown",
   "id": "f0765858-e3a1-4c06-8bd1-2a00c2c29e46",
   "metadata": {},
   "source": [
    "# Movie"
   ]
  },
  {
   "cell_type": "code",
   "execution_count": 25,
   "id": "7355dce1-61e6-46a4-b035-e56f07ddc689",
   "metadata": {},
   "outputs": [],
   "source": [
    "MOVIE_BASE_PARQUET_PATH = './local_data/movie/review'\n",
    "MOVIE_BASE_INFO_PATH = './local_data/movie/info'\n",
    "MOVIE_USERS_PARQUET_PATH = \"./local_data/movie/processed_data/movie_users.parquet\"\n",
    "MOVIE_CONTENT_PARQUET_PATH = \"./local_data/movie/processed_data/movie_content.parquet\""
   ]
  },
  {
   "cell_type": "code",
   "execution_count": 44,
   "id": "ace4efaa-7de2-45c6-8ff6-17f5029be320",
   "metadata": {},
   "outputs": [],
   "source": [
    "def create_movie_users_parquet():\n",
    "    schema = ArrayType(\n",
    "        StructType([\n",
    "            StructField(\"author\", StringType(), True),\n",
    "            StructField(\"author_details\", StructType([\n",
    "                StructField(\"rating\", StringType(), True)\n",
    "            ]), True),\n",
    "            StructField(\"created_at\", StringType(), True),\n",
    "        ])\n",
    "    )\n",
    "    \n",
    "    movie_users = spark.read.parquet(MOVIE_BASE_PARQUET_PATH)\\\n",
    "              .filter(length(\"results\")>2)\\\n",
    "              .withColumn(\"results_test\", col('results'))\\\n",
    "              .withColumn(\"results_parsed\", from_json(col(\"results_test\"), schema))\\\n",
    "              .withColumn(\"result_exploded\", explode(col(\"results_parsed\")))\\\n",
    "              .withColumn('result_exploded', col(\"result_exploded\").cast(StringType()))\n",
    "    \n",
    "    split_col = split(movie_users['result_exploded'], ', ')\n",
    "    \n",
    "    movie_users = movie_users.withColumn('author', split_col.getItem(0)) \\\n",
    "               .withColumn('author', expr(\"substring(author,2, length(author) -1)\")) \\\n",
    "               .withColumn('rating', split_col.getItem(1)) \\\n",
    "               .withColumn(\"rating\", expr(\"substring(rating, 2, length(rating) - 2)\"))\\\n",
    "               .withColumn(\"rating\", col('rating').cast(DoubleType()))\\\n",
    "               .withColumn('rating_date', split_col.getItem(2))\\\n",
    "               .withColumn('rating_date', expr(\"substring(rating_date,1, length(rating_date) -1)\"))\\\n",
    "               .withColumn(\"rating_date\", to_date(col(\"rating_date\"), \"yyyy-MM-dd'T'HH:mm:ss.SSS'Z'\"))\\\n",
    "               .select(col('author').alias('user_id'), lit('movie').alias('type'), col('id').alias('content_id').cast(StringType()), 'rating', 'rating_date')\n",
    "\n",
    "    if not os.path.exists(MOVIE_USERS_PARQUET_PATH):\n",
    "        os.makedirs(MOVIE_USERS_PARQUET_PATH)\n",
    "\n",
    "    movie_users.repartition(1).write.mode('overwrite').parquet(MOVIE_USERS_PARQUET_PATH)"
   ]
  },
  {
   "cell_type": "code",
   "execution_count": 38,
   "id": "ab09e861-f7bf-4a7a-81a3-c5fdc512d3dc",
   "metadata": {},
   "outputs": [],
   "source": [
    "def create_movie_content_parquet():\n",
    "    if not os.path.exists(MOVIE_CONTENT_PARQUET_PATH):\n",
    "        os.makedirs(MOVIE_CONTENT_PARQUET_PATH)\n",
    "    movie_content = (\n",
    "        spark\n",
    "        .read.parquet(MOVIE_BASE_INFO_PATH)\n",
    "        .select(col('id').alias('content_id'), col('overview').alias('description'), col('release_date').alias('release_year'))\n",
    "        .withColumn('release_year', substring(\"release_year\", 1, 4))\n",
    "        .repartition(1).write.mode('overwrite').parquet(MOVIE_CONTENT_PARQUET_PATH)\n",
    "    )\n",
    "    movie_content.repartition(1).write.mode('overwrite').parquet(MOVIE_CONTENT_PARQUET_PATH)"
   ]
  },
  {
   "cell_type": "code",
   "execution_count": 41,
   "id": "9bcf4b4c-f553-465a-b331-17dc24bf207b",
   "metadata": {},
   "outputs": [],
   "source": [
    "def get_movie_users_df():\n",
    "    movie_users = spark.read.parquet(MOVIE_USERS_PARQUET_PATH)\n",
    "    return movie_users"
   ]
  },
  {
   "cell_type": "code",
   "execution_count": 34,
   "id": "bea32529-7a8c-4875-aa7b-8d183af2ff18",
   "metadata": {},
   "outputs": [],
   "source": [
    "def get_movie_content_df():\n",
    "    movie_content = spark.read.parquet(MOVIE_CONTENT_PARQUET_PATH)\n",
    "    return movie_content"
   ]
  },
  {
   "cell_type": "code",
   "execution_count": 45,
   "id": "1ebf653c-5b99-44cd-ad4b-c55b49b2ab91",
   "metadata": {},
   "outputs": [],
   "source": [
    "create_movie_users_parquet()"
   ]
  },
  {
   "cell_type": "code",
   "execution_count": 39,
   "id": "51946b04-d6ff-4bc3-91aa-b0ae779fd8d1",
   "metadata": {},
   "outputs": [],
   "source": [
    "create_movie_content_parquet()"
   ]
  },
  {
   "cell_type": "code",
   "execution_count": 46,
   "id": "e85758c8-88ee-4d6e-8bb2-9b2583e86668",
   "metadata": {},
   "outputs": [
    {
     "name": "stdout",
     "output_type": "stream",
     "text": [
      "+------------------+-----+----------+------+-----------+\n",
      "|           user_id| type|content_id|rating|rating_date|\n",
      "+------------------+-----+----------+------+-----------+\n",
      "|        John Chard|movie|       576|  10.0| 2017-02-10|\n",
      "|      tmdb28039023|movie|       576|   6.0| 2022-08-28|\n",
      "|Filipe Manuel Neto|movie|       576|   5.0| 2023-10-15|\n",
      "|  Manuel São Bento|movie|    850165|   7.0| 2023-12-21|\n",
      "|             r96sk|movie|    850165|   9.0| 2024-02-09|\n",
      "+------------------+-----+----------+------+-----------+\n",
      "only showing top 5 rows\n",
      "\n",
      "root\n",
      " |-- user_id: string (nullable = true)\n",
      " |-- type: string (nullable = true)\n",
      " |-- content_id: string (nullable = true)\n",
      " |-- rating: double (nullable = true)\n",
      " |-- rating_date: date (nullable = true)\n",
      "\n"
     ]
    }
   ],
   "source": [
    "movie_users = get_movie_users_df()\n",
    "movie_users.show(5)\n",
    "movie_users.printSchema()"
   ]
  },
  {
   "cell_type": "code",
   "execution_count": 47,
   "id": "81bcd714-6856-442b-ae5f-08d07fdcfde4",
   "metadata": {},
   "outputs": [
    {
     "name": "stdout",
     "output_type": "stream",
     "text": [
      "+----------+--------------------+------------+\n",
      "|content_id|         description|release_year|\n",
      "+----------+--------------------+------------+\n",
      "|     43969|Nogreh is a young...|        2003|\n",
      "|    651102|Since its first p...|        1971|\n",
      "|     80957|Brian, (Luke Goss...|        2011|\n",
      "|    936897|Goldy is a spirit...|        2022|\n",
      "|    146536|A journey back in...|        1986|\n",
      "+----------+--------------------+------------+\n",
      "only showing top 5 rows\n",
      "\n",
      "root\n",
      " |-- content_id: long (nullable = true)\n",
      " |-- description: string (nullable = true)\n",
      " |-- release_year: string (nullable = true)\n",
      "\n"
     ]
    }
   ],
   "source": [
    "movie_content = get_movie_content_df()\n",
    "movie_content.show(5)\n",
    "movie_content.printSchema()"
   ]
  },
  {
   "cell_type": "code",
   "execution_count": 48,
   "id": "ddc96c42-8f82-4fb0-b1dc-cf8a37b13bb1",
   "metadata": {},
   "outputs": [
    {
     "name": "stderr",
     "output_type": "stream",
     "text": [
      "1it [00:00, 15.24it/s]\n"
     ]
    }
   ],
   "source": [
    "store_processed_parquet(MOVIE_USERS_PARQUET_PATH, prefix='movie')"
   ]
  },
  {
   "cell_type": "code",
   "execution_count": 49,
   "id": "b04ef0f6-7393-4708-a197-3f7fba8757b8",
   "metadata": {},
   "outputs": [
    {
     "name": "stderr",
     "output_type": "stream",
     "text": [
      "1it [00:00, 16.77it/s]\n"
     ]
    }
   ],
   "source": [
    "store_processed_parquet(MOVIE_CONTENT_PARQUET_PATH, prefix='movie')"
   ]
  },
  {
   "cell_type": "code",
   "execution_count": 33,
   "id": "54575aae-54a1-4254-8523-a0b6f6d43a01",
   "metadata": {},
   "outputs": [],
   "source": [
    "# GC had this code to enrich movie_users, I don't see the use yet so I am leaving this commented out.\n",
    "# movie_users = movie_users.join(movie_content, ['content_id'],'left')\n",
    "# movie_users.repartition(1).write.mode('overwrite').parquet(MOVIE_CONTENT_PARQUET_PATH)"
   ]
  },
  {
   "cell_type": "code",
   "execution_count": 50,
   "id": "3dec0224-cb06-4811-a349-d4401744ab63",
   "metadata": {},
   "outputs": [],
   "source": [
    "# schema = ArrayType(\n",
    "#     StructType([\n",
    "#         StructField(\"author\", StringType(), True),\n",
    "#         StructField(\"author_details\", StructType([\n",
    "#             StructField(\"rating\", StringType(), True)\n",
    "#         ]), True),\n",
    "#         StructField(\"created_at\", StringType(), True),\n",
    "#     ])\n",
    "# )\n",
    "\n",
    "# movie_users = spark.read.parquet(MOVIE_BASE_PARQUET_PATH)\\\n",
    "#           .filter(length(\"results\")>2)\\\n",
    "#           .withColumn(\"results_test\", col('results'))\\\n",
    "#           .withColumn(\"results_parsed\", from_json(col(\"results_test\"), schema))\\\n",
    "#           .withColumn(\"result_exploded\", explode(col(\"results_parsed\")))\\\n",
    "#           .withColumn('result_exploded', col(\"result_exploded\").cast(StringType()))\n",
    "\n",
    "# split_col = split(movie_users['result_exploded'], ', ')\n",
    "\n",
    "# movie_users = movie_users.withColumn('author', split_col.getItem(0)) \\\n",
    "#            .withColumn('author', expr(\"substring(author,2, length(author) -1)\")) \\\n",
    "#            .withColumn('rating', split_col.getItem(1)) \\\n",
    "#            .withColumn(\"rating\", expr(\"substring(rating, 2, length(rating) - 2)\"))\\\n",
    "#            .withColumn(\"rating\", col('rating').cast(DoubleType()))\\\n",
    "#            .withColumn('rating_date', split_col.getItem(2))\\\n",
    "#            .withColumn('rating_date', expr(\"substring(rating_date,1, length(rating_date) -1)\"))\\\n",
    "#            .withColumn(\"rating_date\", to_date(col(\"rating_date\"), \"yyyy-MM-dd'T'HH:mm:ss.SSS'Z'\"))\\\n",
    "#            .select(col('author').alias('user_id'), lit('movie').alias('type'), col('id').alias('content_id').cast(StringType()), 'rating', 'rating_date')\n",
    "\n",
    "# movie_content = spark.read.parquet(MOVIE_BASE_INFO_PATH)\\\n",
    "#               .select(col('id').alias('content_id'),col('overview').alias('description'), col('release_date').alias('release_year'))\\\n",
    "#               .withColumn('release_year', substring(\"release_year\", 1, 4))\n",
    "\n",
    "# # movie_content.repartition(1).write.mode('overwrite').parquet(\"./parsed_data/movies_descript.parquet\")\n",
    "\n",
    "# # Re-lectura\n",
    "\n",
    "# # dfIni = spark.read.parquet(\"./parsed_data/movies_user.parquet\")\n",
    "# # dfDesc = spark.read.parquet(\"./parsed_data/movies_descript.parquet\")\n",
    "\n"
   ]
  },
  {
   "cell_type": "markdown",
   "id": "552ffe46-8b53-4490-abe8-d3ac5843f259",
   "metadata": {},
   "source": [
    "# Anime"
   ]
  },
  {
   "cell_type": "code",
   "execution_count": null,
   "id": "b336217b-1f05-4670-9b3d-b841fa06831e",
   "metadata": {},
   "outputs": [],
   "source": [
    "animes = spark.read.parquet('./anime/data/anime.parquet').select('user_id','type','content_id','rating','rating_date')\n",
    "animes.printSchema()"
   ]
  },
  {
   "cell_type": "markdown",
   "id": "14a972e3-9f27-40a7-baac-c8745c15b9c5",
   "metadata": {},
   "source": [
    "# Videogames"
   ]
  },
  {
   "cell_type": "code",
   "execution_count": null,
   "id": "3f7301bd-ac23-4736-9ad8-878922285711",
   "metadata": {},
   "outputs": [],
   "source": [
    "#.schema('user_id STRING, type STRING, content_id string, rating DOUBLE, rating_date DATE')\n",
    "videogames = (\n",
    "    spark.read.parquet('./videogames/processed_data/steam_users.parquet')\n",
    "    .withColumn('rating_date', to_date(col('rating_date'), 'yyyy-HH'))\n",
    "    .select('user_id','type','content_id','rating','rating_date')\n",
    ")\n",
    "videogames.printSchema()"
   ]
  },
  {
   "cell_type": "code",
   "execution_count": null,
   "id": "d2701c36-868f-44af-bd06-9a07ced053df",
   "metadata": {},
   "outputs": [],
   "source": [
    "videogames.show()"
   ]
  },
  {
   "cell_type": "markdown",
   "id": "bac3ee52-5f72-4413-95fd-9900ce409979",
   "metadata": {},
   "source": [
    "# Merging all content"
   ]
  },
  {
   "cell_type": "code",
   "execution_count": 50,
   "id": "6d123d9e-db41-4014-93c7-5c35596ed28d",
   "metadata": {},
   "outputs": [
    {
     "name": "stdout",
     "output_type": "stream",
     "text": [
      "root\n",
      " |-- user_id: string (nullable = true)\n",
      " |-- type: string (nullable = true)\n",
      " |-- content_id: string (nullable = true)\n",
      " |-- rating: double (nullable = true)\n",
      " |-- rating_date: timestamp_ntz (nullable = true)\n",
      "\n",
      "+------------+---------+----------+------+-------------------+\n",
      "|     user_id|     type|content_id|rating|        rating_date|\n",
      "+------------+---------+----------+------+-------------------+\n",
      "|akapastorguy|boardgame|      1608|   6.0|2003-07-29 15:49:58|\n",
      "|akapastorguy|boardgame|      3141|   7.0|2003-07-29 15:49:58|\n",
      "|akapastorguy|boardgame|      1207|   5.0|2003-07-29 15:56:05|\n",
      "|akapastorguy|boardgame|       295|   7.0|2003-07-30 21:11:56|\n",
      "|akapastorguy|boardgame|      1545|   8.0|2003-07-30 21:19:27|\n",
      "|akapastorguy|boardgame|       505|   7.0|2003-08-03 22:58:44|\n",
      "|akapastorguy|boardgame|      1250|   4.0|2003-08-03 23:03:07|\n",
      "|akapastorguy|boardgame|       102|   8.0|2003-08-03 23:11:22|\n",
      "|akapastorguy|boardgame|      1117|   4.0|2003-08-03 23:11:22|\n",
      "|akapastorguy|boardgame|      3201|   7.0|2003-08-04 11:04:57|\n",
      "|akapastorguy|boardgame|       872|   5.0|2003-08-04 11:15:13|\n",
      "|akapastorguy|boardgame|      1261|   5.0|2003-08-04 11:15:13|\n",
      "|akapastorguy|boardgame|       541|   8.0|2003-08-04 11:15:13|\n",
      "|akapastorguy|boardgame|      1927|   2.0|2003-08-04 11:15:13|\n",
      "|akapastorguy|boardgame|       151|   7.0|2003-08-04 11:31:08|\n",
      "|akapastorguy|boardgame|      1232|   3.0|2003-08-04 12:15:00|\n",
      "|akapastorguy|boardgame|       221|   6.0|2003-08-04 12:15:00|\n",
      "|akapastorguy|boardgame|      1041|   6.0|2003-08-04 12:15:00|\n",
      "|akapastorguy|boardgame|       308|   6.0|2003-08-04 12:15:00|\n",
      "|akapastorguy|boardgame|       400|   4.0|2003-08-04 12:15:00|\n",
      "+------------+---------+----------+------+-------------------+\n",
      "only showing top 20 rows\n",
      "\n"
     ]
    }
   ],
   "source": [
    "merged_users = (\n",
    "    boardgame_users\n",
    "    .union(movie_users.select(['user_id', 'type', 'content_id', 'rating', 'rating_date']))\n",
    "    # .union(animes)\n",
    "    # .union(videogames)\n",
    "    .withColumn('user_id', trim(lower(col('user_id'))))\n",
    "    .withColumn('type', lower(col('type')))\n",
    ")\n",
    "merged_users.printSchema()\n",
    "merged_users.sample(False, 0.1).orderBy(col('rating_date')).show()"
   ]
  },
  {
   "cell_type": "code",
   "execution_count": 51,
   "id": "a6841792-7754-4eed-b50b-96c6acb1e694",
   "metadata": {},
   "outputs": [
    {
     "name": "stdout",
     "output_type": "stream",
     "text": [
      "+------------------+-----+\n",
      "|           user_id|count|\n",
      "+------------------+-----+\n",
      "|       zefquaavius| 5547|\n",
      "|      akapastorguy| 4636|\n",
      "|          naarnold| 3212|\n",
      "|             tydel| 3171|\n",
      "|         adrimetum| 2959|\n",
      "|          doccabet| 2840|\n",
      "|            huffa2| 2434|\n",
      "|              muyf| 2372|\n",
      "|           domi123| 2243|\n",
      "|       donnie lama| 2224|\n",
      "|kreikkaturkulainen| 2004|\n",
      "|         doomfarer| 1994|\n",
      "|            d0gb0t| 1974|\n",
      "|    saxophonechapa| 1951|\n",
      "|            landru| 1922|\n",
      "|           okami31| 1913|\n",
      "|            e1deno| 1903|\n",
      "|          ryousuke| 1864|\n",
      "|           bobondi| 1832|\n",
      "|          riever32| 1831|\n",
      "+------------------+-----+\n",
      "only showing top 20 rows\n",
      "\n"
     ]
    }
   ],
   "source": [
    "merged_users.groupBy(col('user_id')).count().sort(col('count'), ascending=False).show()"
   ]
  },
  {
   "cell_type": "code",
   "execution_count": 52,
   "id": "e19086a1-8b81-45dc-9e50-4543478a86fb",
   "metadata": {},
   "outputs": [
    {
     "name": "stdout",
     "output_type": "stream",
     "text": [
      "+------------------+-----+\n",
      "|           user_id|count|\n",
      "+------------------+-----+\n",
      "|      luckyoneputt|    1|\n",
      "|         eagle1207|    1|\n",
      "|            max667|    1|\n",
      "|        frankbouch|    1|\n",
      "|           nforget|    1|\n",
      "|gemaskerdemuchacho|    1|\n",
      "|         radziku87|    1|\n",
      "|             megsg|    1|\n",
      "|           juserre|    1|\n",
      "|            wuchak|    1|\n",
      "|         stmcguire|    1|\n",
      "|          serranon|    1|\n",
      "| angrytechnobadger|    1|\n",
      "|           devrick|    1|\n",
      "|          sjakkajs|    1|\n",
      "|          garethmb|    1|\n",
      "|         yurjinfox|    1|\n",
      "|              p3te|    1|\n",
      "|         gh0st2279|    1|\n",
      "|        gulfcess23|    1|\n",
      "+------------------+-----+\n",
      "only showing top 20 rows\n",
      "\n"
     ]
    }
   ],
   "source": [
    "(\n",
    "    merged_users\n",
    "    .select('user_id', 'type')\n",
    "    .withColumn('user_id', trim(regexp_replace(lower(col('user_id')), '[^a-zA-Z0-9]', '')))\n",
    "    .distinct()\n",
    "    .groupBy(col('user_id'))\n",
    "    .count()\n",
    "    .sort(col('count'), ascending=False)\n",
    "    .show()\n",
    ")"
   ]
  },
  {
   "cell_type": "code",
   "execution_count": 53,
   "id": "b9a3acb8-9578-4a41-b684-ff0b3dde23b1",
   "metadata": {},
   "outputs": [
    {
     "name": "stdout",
     "output_type": "stream",
     "text": [
      "+---------+------+\n",
      "|     type| count|\n",
      "+---------+------+\n",
      "|boardgame|258496|\n",
      "|    movie|    36|\n",
      "+---------+------+\n",
      "\n"
     ]
    }
   ],
   "source": [
    "(\n",
    "    merged_users\n",
    "    .select('type')\n",
    "    .groupBy(col('type'))\n",
    "    .count()\n",
    "    .sort(col('count'), ascending=False)\n",
    "    .show()\n",
    ")"
   ]
  },
  {
   "cell_type": "code",
   "execution_count": 54,
   "id": "0ca9acef-45c6-4711-bda9-660e6f00f0c6",
   "metadata": {},
   "outputs": [
    {
     "name": "stdout",
     "output_type": "stream",
     "text": [
      "+----+-----+\n",
      "|type|count|\n",
      "+----+-----+\n",
      "+----+-----+\n",
      "\n"
     ]
    }
   ],
   "source": [
    "(\n",
    "    merged_users\n",
    "    .filter(merged_users['user_id'] == 'daimyo')\n",
    "    .groupBy(col('type'))\n",
    "    .count()\n",
    "    .show()\n",
    ")"
   ]
  },
  {
   "cell_type": "code",
   "execution_count": 55,
   "id": "331bf011-4f76-4b1c-9980-bea108dcea84",
   "metadata": {},
   "outputs": [],
   "source": [
    "# Check what the RS does for the NULL values.\n",
    "# - We could impute something, like the average score the user gives."
   ]
  },
  {
   "cell_type": "markdown",
   "id": "553f0ff2-4c0d-41b5-a381-cc7e165381b6",
   "metadata": {},
   "source": [
    "# Yake"
   ]
  },
  {
   "cell_type": "code",
   "execution_count": 124,
   "id": "38cae6e0-5616-4c0f-aabb-a6725e7898da",
   "metadata": {},
   "outputs": [],
   "source": [
    "# merged.show()"
   ]
  },
  {
   "cell_type": "code",
   "execution_count": 125,
   "id": "9f5d4989-ee54-4b39-bc8e-8f6f51cacdb0",
   "metadata": {},
   "outputs": [],
   "source": [
    "# boardgame_content.show()"
   ]
  },
  {
   "cell_type": "code",
   "execution_count": 126,
   "id": "d7728930-2bcb-499d-a752-21174903c844",
   "metadata": {},
   "outputs": [],
   "source": [
    "# r = boardgame_content.rdd.map(lambda x: (x[2], get_kw(x[0])))"
   ]
  },
  {
   "cell_type": "code",
   "execution_count": 127,
   "id": "0f94161d-da44-4340-ae15-9c7ef8c6c2e7",
   "metadata": {},
   "outputs": [],
   "source": [
    "# spark.createDataFrame(r).show()"
   ]
  },
  {
   "cell_type": "code",
   "execution_count": 128,
   "id": "a5ee219f-bcb8-4495-a503-38d5d633d97d",
   "metadata": {},
   "outputs": [],
   "source": [
    "def get_kw(text):\n",
    "   kw_extractor = yake.KeywordExtractor(\n",
    "       lan='en',\n",
    "       n=2,  # Max n-gram size\n",
    "       top=5  # Number of keywords\n",
    "   )\n",
    "    \n",
    "   return list(map(lambda x: str.lower(x[0]) if x else '', kw_extractor.extract_keywords(text)))\n"
   ]
  },
  {
   "cell_type": "code",
   "execution_count": 129,
   "id": "2154aff3-370d-465d-a510-2e77a1bcd147",
   "metadata": {},
   "outputs": [],
   "source": [
    "df = boardgame_content"
   ]
  },
  {
   "cell_type": "code",
   "execution_count": 130,
   "id": "a8a43655-f4a2-41ae-85f5-a6bbe6c847e1",
   "metadata": {},
   "outputs": [
    {
     "name": "stdout",
     "output_type": "stream",
     "text": [
      "+----------+--------------------+--------------------+----------------+-----------------+--------------------+\n",
      "|content_id|           keyword_1|           keyword_2|       keyword_3|        keyword_4|           keyword_5|\n",
      "+----------+--------------------+--------------------+----------------+-----------------+--------------------+\n",
      "|      1117|       bluffing game|                 bid| classic bidding|           animal|             players|\n",
      "|      1086|          move pawns|          outer path|    players move|      earthdevils|               earth|\n",
      "|    107704|         middle ages|                fief|            ages|          players|              middle|\n",
      "|     10226|     gettysburg july|                july|   george gordon|     gordon meade|               meade|\n",
      "|    104351|         syrian wars|       antiochus iii|    modern rafah| seleucid kingdom|       battle fought|\n",
      "|     10355|        golfing game|                game|       golf game|             golf|           judgement|\n",
      "|    104413|       reiner knizia|supplementing reiner|knizia acclaimed|        star trek|acclaimed coopera...|\n",
      "|    108784|               storm|           ascension|           souls|  ascension games|               vigil|\n",
      "|    104162|            journeys|             descent|            dark|          edition|treacherous overlord|\n",
      "|    113360| chess-checkers play|classic chess-che...|            dice|             game|               board|\n",
      "|     10033|         greek monos|        polein πωλεá|    monos μïœνος|  specific person|               greek|\n",
      "|      1129|                game|                dice|   strategy game|              die|              player|\n",
      "|     10703|       murder weapon|              murder|           solve|           weapon|               clues|\n",
      "|    107466|                card|          order card|          player|            cards|             topping|\n",
      "|     10280|       snifty snakes|        players wear|     color rings|        ears mask|              snakes|\n",
      "|    101657|           world war|                 war|    audie murphy|important general|               world|\n",
      "|    102435|          kit carson|            army led|   american army|      navajo wars|              navajo|\n",
      "|    108735|traditional japanese|      japanese chess|      game shogi|      kings plate|               shogi|\n",
      "|     10206|               break|                make|   break extreme|  break challenge|        break junior|\n",
      "|    115435|     forbidden words|    answer forbidden|          answer|           object|        quickly ring|\n",
      "+----------+--------------------+--------------------+----------------+-----------------+--------------------+\n",
      "only showing top 20 rows\n",
      "\n"
     ]
    }
   ],
   "source": [
    "rddK = df.rdd.map(lambda x: (x['content_id'], get_kw(x['description'])))\n",
    "rddK = spark.createDataFrame(rddK).select(col('_1').alias('content_id'), col('_2').alias('keyword'))\n",
    "dfK = (rddK.withColumn(\"keyword_1\", expr(\"keyword[0]\"))\n",
    "                .withColumn(\"keyword_2\", expr(\"keyword[1]\"))\n",
    "                .withColumn(\"keyword_3\", expr(\"keyword[2]\"))\n",
    "                .withColumn(\"keyword_4\", expr(\"keyword[3]\"))\n",
    "                .withColumn(\"keyword_5\", expr(\"keyword[4]\"))\n",
    "                .select('content_id','keyword_1','keyword_2','keyword_3','keyword_4','keyword_5' )\n",
    "      )\n",
    "dfK.show()"
   ]
  },
  {
   "cell_type": "markdown",
   "id": "33bc79eb-3f43-4eee-8c60-fa6ea8432978",
   "metadata": {},
   "source": [
    "- [ ] connect directly spark to neo4j (using the right connector)\n",
    "- [ ] maybe provide some analytics about the users' profile"
   ]
  },
  {
   "cell_type": "code",
   "execution_count": null,
   "id": "b81429bb-73de-412d-9e9f-c4532bea54f5",
   "metadata": {},
   "outputs": [],
   "source": []
  }
 ],
 "metadata": {
  "kernelspec": {
   "display_name": "Python 3 (ipykernel)",
   "language": "python",
   "name": "python3"
  },
  "language_info": {
   "codemirror_mode": {
    "name": "ipython",
    "version": 3
   },
   "file_extension": ".py",
   "mimetype": "text/x-python",
   "name": "python",
   "nbconvert_exporter": "python",
   "pygments_lexer": "ipython3",
   "version": "3.11.4"
  }
 },
 "nbformat": 4,
 "nbformat_minor": 5
}
