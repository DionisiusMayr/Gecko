{
 "cells": [
  {
   "cell_type": "code",
   "execution_count": 1,
   "id": "51ce1c7a-518d-4807-87c3-3492c84d77ff",
   "metadata": {},
   "outputs": [],
   "source": [
    "from pyspark.sql import SparkSession\n",
    "from pyspark.sql.functions import col, length, from_json, expr, split, lit, to_date, explode, count\n",
    "from pyspark.sql.types import StringType, StructType, StructField, MapType, ArrayType, DoubleType"
   ]
  },
  {
   "cell_type": "code",
   "execution_count": 2,
   "id": "1c91417f-b56f-46c2-92f0-ca11a50ecda9",
   "metadata": {},
   "outputs": [],
   "source": [
    "import xml.etree.ElementTree as ET\n",
    "import requests\n",
    "import os\n",
    "import collections\n",
    "import time\n",
    "\n",
    "import pandas as pd"
   ]
  },
  {
   "cell_type": "code",
   "execution_count": 3,
   "id": "cccbb0d1-73cf-476d-9257-980c5a376928",
   "metadata": {},
   "outputs": [],
   "source": [
    "spark = SparkSession.builder.getOrCreate()"
   ]
  },
  {
   "cell_type": "code",
   "execution_count": 4,
   "id": "1ae3ad58-9413-49a9-8743-4cda839911e9",
   "metadata": {},
   "outputs": [
    {
     "name": "stdout",
     "output_type": "stream",
     "text": [
      "collection  parsed_data  raw_data\n"
     ]
    }
   ],
   "source": [
    "!ls boardgame"
   ]
  },
  {
   "cell_type": "markdown",
   "id": "ad06d713-5c41-4488-b880-70f67db856d5",
   "metadata": {},
   "source": [
    "# Boardgames"
   ]
  },
  {
   "cell_type": "code",
   "execution_count": 5,
   "id": "fdc5fcd0-6d6f-434b-bf0e-a0129a455734",
   "metadata": {},
   "outputs": [],
   "source": [
    "BASE_XML_PATH = './boardgame/raw_data/collection'\n",
    "BASE_PARQUET_PATH = './boardgame/parsed_data/collection'"
   ]
  },
  {
   "cell_type": "code",
   "execution_count": 6,
   "id": "8435fc23-0e3a-4a3d-9c57-721db3a057f9",
   "metadata": {},
   "outputs": [],
   "source": [
    "def xml_to_dataframe(xml_file) -> pd.DataFrame:\n",
    "    with open(xml_file, 'r') as f:\n",
    "        r_text = f.read()\n",
    "        root = ET.fromstring(r_text)\n",
    "\n",
    "    df_user_id = []\n",
    "    df_type = []\n",
    "    df_content_id = []\n",
    "    df_rating = []\n",
    "    df_rating_date = []\n",
    "    \n",
    "    for bg in root:\n",
    "        bg_name = bg[0].text\n",
    "        coll_id = bg.attrib['collid']  # I don't really know what this is, but I guess it is the id of this instance of the boardgame in the list\n",
    "        object_id = bg.attrib['objectid']  # This is the boardgame identifier\n",
    "\n",
    "        rating_val = None\n",
    "        for field in bg:\n",
    "            if field.tag == 'stats':\n",
    "                rating_val = field[0].attrib['value']\n",
    "                if rating_val == 'N/A':\n",
    "                    rating_val = None\n",
    "            if field.tag == 'yearpublished':\n",
    "                year_published = field.text\n",
    "            if field.tag == 'status':\n",
    "                date_of_rating = field.attrib['lastmodified']  # Not really the rating date, but it is as close as possible with the current information.\n",
    "\n",
    "        # print(user_id, 'boardgame', object_id, rating_val, date_of_rating)\n",
    "        # print(bg_name, rating_val, year_published, coll_id, object_id)\n",
    "        df_user_id.append(xml_file.split('/')[-1][:-4])\n",
    "        df_type.append('boardgame')\n",
    "        df_content_id.append(object_id)\n",
    "        df_rating.append(rating_val)\n",
    "        df_rating_date.append(date_of_rating)\n",
    "\n",
    "    return pd.DataFrame({\n",
    "        'user_id': pd.Series(df_user_id, dtype='str'),\n",
    "        'type': pd.Series(df_type, dtype='category'),\n",
    "        'content_id': pd.Series(df_content_id, dtype='str'),\n",
    "        'rating': pd.Series(df_rating, dtype='float64'),\n",
    "        'rating_date': pd.Series(df_rating_date, dtype='datetime64[ms]')\n",
    "    })\n",
    "\n",
    "# user_id = 'eekspider'\n",
    "# user_id = 'adammathys'\n",
    "# xml_file = f'./boardgame/raw_data/collection/{user_id}.xml'\n",
    "# xml_to_dataframe(xml_file)"
   ]
  },
  {
   "cell_type": "code",
   "execution_count": 7,
   "id": "5324700f-1612-462c-9197-d49d3e624d44",
   "metadata": {},
   "outputs": [],
   "source": [
    "def create_boardgames_parquet():\n",
    "    for xml in filter(lambda x: x.endswith('.xml'), os.listdir(BASE_XML_PATH)):\n",
    "        try:\n",
    "            parquet_path = f'{BASE_PARQUET_PATH}/{xml[:-4]}.parquet'\n",
    "            df = xml_to_dataframe(f'{BASE_XML_PATH}/{xml}')\n",
    "            df.to_parquet(parquet_path)\n",
    "        except Exception as e:\n",
    "            print(e)\n",
    "            print(f'Error: Invalid xml file: {xml}')"
   ]
  },
  {
   "cell_type": "code",
   "execution_count": 8,
   "id": "ef9f92b5-1106-4495-bc12-6849ada2478c",
   "metadata": {},
   "outputs": [],
   "source": [
    "def get_boardgames_df():\n",
    "    boardgames = spark.read.parquet(BASE_PARQUET_PATH)\n",
    "    return boardgames"
   ]
  },
  {
   "cell_type": "code",
   "execution_count": 9,
   "id": "480f3005-c860-4b60-a20a-0b3516dfdb1f",
   "metadata": {
    "scrolled": true
   },
   "outputs": [],
   "source": [
    "create_boardgames_parquet()"
   ]
  },
  {
   "cell_type": "code",
   "execution_count": 10,
   "id": "5ded81b9-f2a3-483b-9243-086502c2e2b1",
   "metadata": {
    "scrolled": true
   },
   "outputs": [
    {
     "name": "stdout",
     "output_type": "stream",
     "text": [
      "+---------+---------+----------+------+-------------------+\n",
      "|  user_id|     type|content_id|rating|        rating_date|\n",
      "+---------+---------+----------+------+-------------------+\n",
      "|elmozilla|boardgame|     27708|  NULL|2020-05-04 23:13:49|\n",
      "|elmozilla|boardgame|     68448|   6.0|2020-05-03 10:56:13|\n",
      "|elmozilla|boardgame|    173346|   8.0|2023-12-22 10:46:22|\n",
      "|elmozilla|boardgame|    346703|   8.0|2023-12-22 10:46:10|\n",
      "|elmozilla|boardgame|    204516|  NULL|2020-05-07 21:24:14|\n",
      "|elmozilla|boardgame|    155987|   8.0|2023-12-22 10:58:20|\n",
      "|elmozilla|boardgame|         5|   7.0|2023-12-22 10:56:36|\n",
      "|elmozilla|boardgame|     21569|   8.0|2023-12-22 10:12:04|\n",
      "|elmozilla|boardgame|    264647|  NULL|2020-05-04 19:33:29|\n",
      "|elmozilla|boardgame|     31260|   7.0|2020-05-03 10:54:14|\n",
      "+---------+---------+----------+------+-------------------+\n",
      "only showing top 10 rows\n",
      "\n",
      "root\n",
      " |-- user_id: string (nullable = true)\n",
      " |-- type: string (nullable = true)\n",
      " |-- content_id: string (nullable = true)\n",
      " |-- rating: double (nullable = true)\n",
      " |-- rating_date: timestamp_ntz (nullable = true)\n",
      "\n"
     ]
    }
   ],
   "source": [
    "boardgames = get_boardgames_df()\n",
    "boardgames.show(10)\n",
    "boardgames.printSchema()"
   ]
  },
  {
   "cell_type": "markdown",
   "id": "57d45a30-1239-4437-862d-8bb298953f95",
   "metadata": {},
   "source": [
    "# Movies"
   ]
  },
  {
   "cell_type": "code",
   "execution_count": 11,
   "id": "49fc37c6-5cad-48be-b9e3-140cd0a72153",
   "metadata": {},
   "outputs": [
    {
     "name": "stdout",
     "output_type": "stream",
     "text": [
      "+------------------+-----+----------+------+-----------+\n",
      "|           user_id| type|content_id|rating|rating_date|\n",
      "+------------------+-----+----------+------+-----------+\n",
      "|             Gurre|movie|        15|   9.0| 2014-05-31|\n",
      "|        talisencrw|movie|        15|  10.0| 2016-04-13|\n",
      "|  Manuel São Bento|movie|        15|  10.0| 2020-11-26|\n",
      "|             r96sk|movie|        15|   9.0| 2021-02-26|\n",
      "|            Wuchak|movie|        15|   6.0| 2022-06-19|\n",
      "|        CinemaSerf|movie|        15|   7.0| 2022-06-25|\n",
      "|             testr|movie|        15|  10.0| 2022-07-12|\n",
      "|        JJJ222cool|movie|        15|   5.0| 2023-06-21|\n",
      "|            badelf|movie|        15|  10.0| 2023-07-26|\n",
      "|             James|movie|        15|   8.0| 2023-10-20|\n",
      "|          markuspm|movie|        62|  NULL| 2013-12-23|\n",
      "|           izgzhen|movie|        62|   8.0| 2017-09-28|\n",
      "|      tmdb47633491|movie|        62|  10.0| 2018-05-18|\n",
      "|Per Gunnar Jonsson|movie|        62|   6.0| 2019-01-27|\n",
      "|            Wuchak|movie|        62|   8.0| 2021-04-08|\n",
      "|      Sigeki Ogino|movie|        62|  NULL| 2022-10-02|\n",
      "|Filipe Manuel Neto|movie|        62|   2.0| 2022-12-23|\n",
      "|        CinemaSerf|movie|        62|  NULL| 2023-06-03|\n",
      "|        JJJ222cool|movie|        62|  10.0| 2023-06-21|\n",
      "|             James|movie|        62|   8.0| 2023-10-28|\n",
      "+------------------+-----+----------+------+-----------+\n",
      "only showing top 20 rows\n",
      "\n",
      "root\n",
      " |-- user_id: string (nullable = true)\n",
      " |-- type: string (nullable = false)\n",
      " |-- content_id: string (nullable = true)\n",
      " |-- rating: double (nullable = true)\n",
      " |-- rating_date: date (nullable = true)\n",
      "\n"
     ]
    }
   ],
   "source": [
    "def get_movies_df():\n",
    "    base_parquet_path = './movie/raw_data/movies_review/'\n",
    "    schema = ArrayType(\n",
    "        StructType([\n",
    "            StructField(\"author\", StringType(), True),\n",
    "            StructField(\"author_details\", StructType([\n",
    "                StructField(\"rating\", StringType(), True)\n",
    "            ]), True),\n",
    "            StructField(\"created_at\", StringType(), True),\n",
    "        ])\n",
    "    )\n",
    "    \n",
    "    df = spark.read.parquet(base_parquet_path)\\\n",
    "              .filter(length(\"results\")>2)\\\n",
    "              .withColumn(\"results_test\", col('results'))\\\n",
    "              .withColumn(\"results_parsed\", from_json(col(\"results_test\"), schema))\\\n",
    "              .withColumn(\"result_exploded\", explode(col(\"results_parsed\")))\\\n",
    "              .withColumn('result_exploded', col(\"result_exploded\").cast(StringType()))\n",
    "    \n",
    "    split_col = split(df['result_exploded'], ', ')\n",
    "    \n",
    "    df = df.withColumn('author', split_col.getItem(0)) \\\n",
    "           .withColumn('author', expr(\"substring(author,2, length(author) -1)\")) \\\n",
    "           .withColumn('rating', split_col.getItem(1)) \\\n",
    "           .withColumn(\"rating\", expr(\"substring(rating, 2, length(rating) - 2)\"))\\\n",
    "            .withColumn(\"rating\", col('rating').cast(DoubleType()))\\\n",
    "           .withColumn('rating_date', split_col.getItem(2))\\\n",
    "           .withColumn('rating_date', expr(\"substring(rating_date,1, length(rating_date) -1)\"))\\\n",
    "           .withColumn(\"rating_date\", to_date(col(\"rating_date\"), \"yyyy-MM-dd'T'HH:mm:ss.SSS'Z'\"))\\\n",
    "           .select(col('author').alias('user_id'), lit('movie').alias('type'), col('id').alias('content_id').cast(StringType()), 'rating', 'rating_date')\n",
    "\n",
    "    df.repartition(1).write.mode('overwrite').parquet(\"./movie/parsed_data.parquet\")\n",
    "\n",
    "    return df\n",
    "\n",
    "movies = get_movies_df()\n",
    "movies.show()\n",
    "\n",
    "# TODO delete\n",
    "movies.printSchema()"
   ]
  },
  {
   "cell_type": "markdown",
   "id": "552ffe46-8b53-4490-abe8-d3ac5843f259",
   "metadata": {},
   "source": [
    "# Anime"
   ]
  },
  {
   "cell_type": "code",
   "execution_count": 12,
   "id": "b336217b-1f05-4670-9b3d-b841fa06831e",
   "metadata": {},
   "outputs": [
    {
     "name": "stdout",
     "output_type": "stream",
     "text": [
      "root\n",
      " |-- user_id: string (nullable = true)\n",
      " |-- type: string (nullable = true)\n",
      " |-- content_id: string (nullable = true)\n",
      " |-- rating: float (nullable = true)\n",
      " |-- rating_date: date (nullable = true)\n",
      "\n"
     ]
    }
   ],
   "source": [
    "anime = spark.read.parquet('./anime/data/sample.parquet').select('user_id','type','content_id','rating','rating_date')\n",
    "anime.printSchema()"
   ]
  },
  {
   "cell_type": "markdown",
   "id": "bac3ee52-5f72-4413-95fd-9900ce409979",
   "metadata": {},
   "source": [
    "# Merging all content"
   ]
  },
  {
   "cell_type": "code",
   "execution_count": 15,
   "id": "6d123d9e-db41-4014-93c7-5c35596ed28d",
   "metadata": {},
   "outputs": [
    {
     "name": "stdout",
     "output_type": "stream",
     "text": [
      "root\n",
      " |-- user_id: string (nullable = true)\n",
      " |-- type: string (nullable = true)\n",
      " |-- content_id: string (nullable = true)\n",
      " |-- rating: double (nullable = true)\n",
      " |-- rating_date: timestamp_ntz (nullable = true)\n",
      "\n",
      "+-----------------+---------+----------+------+-------------------+\n",
      "|          user_id|     type|content_id|rating|        rating_date|\n",
      "+-----------------+---------+----------+------+-------------------+\n",
      "|       talisencrw|    movie|      3924|   9.0|2016-06-30 00:00:00|\n",
      "|    misterferrari|    anime|      7739|   2.0|2017-02-06 00:00:00|\n",
      "|Potential Kermode|    movie|        87|   9.0|2017-02-13 00:00:00|\n",
      "|     tmdb13206453|    movie|        24|  10.0|2017-06-10 00:00:00|\n",
      "|            Gimly|    movie|        78|   8.0|2017-10-27 00:00:00|\n",
      "|    misterferrari|    anime|      2864|   1.0|2018-05-01 00:00:00|\n",
      "|    misterferrari|    anime|     12589|   3.0|2018-12-12 00:00:00|\n",
      "|       John Chard|    movie|        87|   9.0|2018-12-24 00:00:00|\n",
      "|       John Chard|    movie|        95|   7.0|2019-06-25 00:00:00|\n",
      "|    misterferrari|    anime|      7809|   1.0|2019-08-26 00:00:00|\n",
      "|           JPV852|    movie|       111|   9.0|2019-10-23 00:00:00|\n",
      "|        elmozilla|boardgame|     54043|  NULL|2020-05-03 13:21:06|\n",
      "|        elmozilla|boardgame|       463|   6.0|2020-05-03 13:27:20|\n",
      "|        elmozilla|boardgame|    113289|  NULL|2020-05-03 18:22:31|\n",
      "|        elmozilla|boardgame|    271319|   8.0|2020-05-03 18:23:42|\n",
      "|        elmozilla|boardgame|    141572|  NULL|2020-05-03 18:35:23|\n",
      "|        elmozilla|boardgame|    131261|  NULL|2020-05-03 18:40:45|\n",
      "|        elmozilla|boardgame|    263918|  NULL|2020-05-03 19:11:12|\n",
      "|        elmozilla|boardgame|    205716|  NULL|2020-05-03 19:46:12|\n",
      "|        elmozilla|boardgame|    271869|  NULL|2020-05-03 19:47:36|\n",
      "+-----------------+---------+----------+------+-------------------+\n",
      "only showing top 20 rows\n",
      "\n"
     ]
    }
   ],
   "source": [
    "merged = boardgames\\\n",
    ".union(movies)\\\n",
    ".union(anime)\n",
    "merged.printSchema()\n",
    "merged.sample(False, 0.1).orderBy(col('rating_date')).show()"
   ]
  },
  {
   "cell_type": "code",
   "execution_count": 14,
   "id": "a6841792-7754-4eed-b50b-96c6acb1e694",
   "metadata": {},
   "outputs": [
    {
     "name": "stdout",
     "output_type": "stream",
     "text": [
      "+------------------+-----+\n",
      "|           user_id|count|\n",
      "+------------------+-----+\n",
      "|         elmozilla|  325|\n",
      "|     misterferrari|  100|\n",
      "|        adammathys|   94|\n",
      "|        CinemaSerf|   30|\n",
      "|        John Chard|   20|\n",
      "|             r96sk|   13|\n",
      "|            Wuchak|   12|\n",
      "|Filipe Manuel Neto|   11|\n",
      "|    Andre Gonzales|   10|\n",
      "|             Gimly|    9|\n",
      "|            JPV852|    7|\n",
      "|           Kamurai|    6|\n",
      "|     The Movie Mob|    5|\n",
      "|        talisencrw|    4|\n",
      "|               Rob|    4|\n",
      "|            badelf|    3|\n",
      "|         Ian Beale|    3|\n",
      "|      Peter McGinn|    3|\n",
      "|             James|    2|\n",
      "| GenerationofSwine|    2|\n",
      "+------------------+-----+\n",
      "only showing top 20 rows\n",
      "\n"
     ]
    }
   ],
   "source": [
    "merged.groupBy(col('user_id')).count().sort(col('count'), ascending=False).show()"
   ]
  },
  {
   "cell_type": "code",
   "execution_count": null,
   "id": "e19086a1-8b81-45dc-9e50-4543478a86fb",
   "metadata": {},
   "outputs": [],
   "source": []
  }
 ],
 "metadata": {
  "kernelspec": {
   "display_name": "Python 3 (ipykernel)",
   "language": "python",
   "name": "python3"
  },
  "language_info": {
   "codemirror_mode": {
    "name": "ipython",
    "version": 3
   },
   "file_extension": ".py",
   "mimetype": "text/x-python",
   "name": "python",
   "nbconvert_exporter": "python",
   "pygments_lexer": "ipython3",
   "version": "3.11.6"
  }
 },
 "nbformat": 4,
 "nbformat_minor": 5
}
