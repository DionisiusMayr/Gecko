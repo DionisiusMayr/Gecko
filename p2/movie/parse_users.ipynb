{
 "cells": [
  {
   "cell_type": "code",
   "execution_count": 324,
   "id": "fabf4bb0-2e9b-4134-a4e6-0438a55f93c2",
   "metadata": {},
   "outputs": [],
   "source": [
    "from pyspark.sql import SparkSession\n",
    "import os\n",
    "from pyspark.sql.functions import col, length, from_json, expr, split, lit, to_date\n",
    "from pyspark.sql.types import StringType, StructType, StructField, MapType\n",
    "import pandas as pd\n",
    "import numpy as np"
   ]
  },
  {
   "cell_type": "code",
   "execution_count": 325,
   "id": "9af43154-41ad-4a5c-b34d-cd73c82f2d04",
   "metadata": {},
   "outputs": [],
   "source": [
    "spark = SparkSession.builder.getOrCreate()\n",
    "base_parquet_path = './raw_data/movies_review/'"
   ]
  },
  {
   "cell_type": "code",
   "execution_count": 326,
   "id": "4069bce5-8bbe-48ed-ad7d-a52b6d473185",
   "metadata": {},
   "outputs": [],
   "source": [
    "schema = ArrayType(\n",
    "    StructType([\n",
    "        StructField(\"author\", StringType(), True),\n",
    "        StructField(\"author_details\", StructType([\n",
    "            StructField(\"rating\", StringType(), True)\n",
    "        ]), True),\n",
    "        StructField(\"created_at\", StringType(), True),\n",
    "    ])\n",
    ")"
   ]
  },
  {
   "cell_type": "code",
   "execution_count": 329,
   "id": "d46bde16-9e77-43cf-8e7f-fe5f2916a6f4",
   "metadata": {},
   "outputs": [],
   "source": [
    "df = spark.read.parquet(base_parquet_path)\\\n",
    "          .filter(length(\"results\")>2)\\\n",
    "          .withColumn(\"results_test\", col('results'))\\\n",
    "          .withColumn(\"results_parsed\", from_json(col(\"results_test\"), schema))\\\n",
    "          .withColumn(\"result_exploded\", explode(col(\"results_parsed\")))\\\n",
    "          .withColumn('result_exploded', col(\"result_exploded\").cast(StringType()))\n",
    "\n",
    "split_col = split(df['result_exploded'], ', ')\n",
    "\n",
    "df = df.withColumn('author', split_col.getItem(0)) \\\n",
    "       .withColumn('author', expr(\"substring(author,2, length(author) -1)\")) \\\n",
    "       .withColumn('rating', split_col.getItem(1)) \\\n",
    "       .withColumn(\"rating\", expr(\"substring(rating, 2, length(rating) - 2)\"))\\\n",
    "       .withColumn('rating_date', split_col.getItem(2))\\\n",
    "       .withColumn('rating_date', expr(\"substring(rating_date,1, length(rating_date) -1)\"))\\\n",
    "       .withColumn(\"rating_date\", to_date(col(\"rating_date\"), \"yyyy-MM-dd'T'HH:mm:ss.SSS'Z'\"))\\\n",
    "       .select('author', lit('movies'), col('id').alias('content_id'), 'rating', 'rating_date')"
   ]
  },
  {
   "cell_type": "code",
   "execution_count": 330,
   "id": "ad916254-5e71-4e7c-9ac2-34ca5b495ba9",
   "metadata": {},
   "outputs": [],
   "source": [
    "df.repartition(1).write.mode('overwrite').parquet(\"./parsed_data\")"
   ]
  },
  {
   "cell_type": "code",
   "execution_count": 328,
   "id": "00c7ab93-8365-4d9d-817b-d109fdf64740",
   "metadata": {},
   "outputs": [
    {
     "name": "stdout",
     "output_type": "stream",
     "text": [
      "+----------------+------+----------+------+-----------+\n",
      "|author          |movies|content_id|rating|rating_date|\n",
      "+----------------+------+----------+------+-----------+\n",
      "|Gurre           |movies|15        |9.0   |2014-05-31 |\n",
      "|talisencrw      |movies|15        |10.0  |2016-04-13 |\n",
      "|Manuel São Bento|movies|15        |10.0  |2020-11-26 |\n",
      "|r96sk           |movies|15        |9.0   |2021-02-26 |\n",
      "|Wuchak          |movies|15        |6.0   |2022-06-19 |\n",
      "|CinemaSerf      |movies|15        |7.0   |2022-06-25 |\n",
      "|testr           |movies|15        |10.0  |2022-07-12 |\n",
      "|JJJ222cool      |movies|15        |5.0   |2023-06-21 |\n",
      "|badelf          |movies|15        |10.0  |2023-07-26 |\n",
      "|James           |movies|15        |8.0   |2023-10-20 |\n",
      "|Goddard         |movies|550       |null  |2018-06-09 |\n",
      "|Brett Pascoe    |movies|550       |9.0   |2018-07-05 |\n",
      "|Manuel São Bento|movies|550       |8.0   |2020-11-22 |\n",
      "|r96sk           |movies|550       |7.0   |2021-01-13 |\n",
      "|rsanek          |movies|550       |9.0   |2021-05-04 |\n",
      "|Wuchak          |movies|550       |6.0   |2021-07-02 |\n",
      "|katch22         |movies|550       |8.0   |2021-07-13 |\n",
      "|alksjalksj      |movies|550       |10.0  |2022-12-11 |\n",
      "|chosengreatone  |movies|550       |10.0  |2023-09-20 |\n",
      "|CinemaSerf      |movies|550       |7.0   |2024-03-20 |\n",
      "+----------------+------+----------+------+-----------+\n",
      "only showing top 20 rows\n",
      "\n"
     ]
    }
   ],
   "source": [
    "df.show(truncate = False)"
   ]
  },
  {
   "cell_type": "code",
   "execution_count": null,
   "id": "4a408651-fcc6-4a5d-b40b-0dd0b4f36a76",
   "metadata": {},
   "outputs": [],
   "source": []
  }
 ],
 "metadata": {
  "kernelspec": {
   "display_name": "Python 3 (ipykernel)",
   "language": "python",
   "name": "python3"
  },
  "language_info": {
   "codemirror_mode": {
    "name": "ipython",
    "version": 3
   },
   "file_extension": ".py",
   "mimetype": "text/x-python",
   "name": "python",
   "nbconvert_exporter": "python",
   "pygments_lexer": "ipython3",
   "version": "3.11.2"
  }
 },
 "nbformat": 4,
 "nbformat_minor": 5
}
