{
 "cells": [
  {
   "cell_type": "code",
   "execution_count": 1,
   "id": "da3e476f-b93a-4b7b-b6db-2489b35e7021",
   "metadata": {},
   "outputs": [],
   "source": [
    "import xml.etree.ElementTree as ET\n",
    "import requests\n",
    "import os\n",
    "import collections\n",
    "import time"
   ]
  },
  {
   "cell_type": "code",
   "execution_count": 2,
   "id": "78f64e9e-fbe2-41ca-b519-9c690f5cb074",
   "metadata": {},
   "outputs": [],
   "source": [
    "SLEEP_BEFORE_QUEUE = 10  # Wait for 10s before checking if the request is ready"
   ]
  },
  {
   "cell_type": "code",
   "execution_count": 3,
   "id": "0034d592-3883-4a7a-85ce-314526e54d56",
   "metadata": {},
   "outputs": [],
   "source": [
    "user = 'eekspider'\n",
    "# user = '2624johnm'\n",
    "# user = 'abehk'"
   ]
  },
  {
   "cell_type": "code",
   "execution_count": 4,
   "id": "fd61fb1d-fba3-450a-946f-07146691e99d",
   "metadata": {},
   "outputs": [],
   "source": [
    "def request_collection_of_user(user, queued_users):\n",
    "    r = requests.get(f'https://boardgamegeek.com/xmlapi/collection/{user}')\n",
    "    if r.status_code == 200:\n",
    "        # Success! Store the file\n",
    "        with open(fname, 'w') as f:\n",
    "            f.write(r.text)\n",
    "    elif r.status_code == 202:\n",
    "        # Request is in the queue\n",
    "        queued_users.append(user)"
   ]
  },
  {
   "cell_type": "code",
   "execution_count": 5,
   "id": "8307d7a9-9d10-410e-a572-06e584baca7b",
   "metadata": {},
   "outputs": [],
   "source": [
    "fname = f'./raw_data/collection/{user}.xml'\n",
    "queued_users = []\n",
    "\n",
    "if os.path.isfile(fname):\n",
    "    # No need to call the API again\n",
    "    with open(fname, 'r') as f:\n",
    "        r_text = f.read()\n",
    "else:\n",
    "    request_collection_of_user(user, queued_users)"
   ]
  },
  {
   "cell_type": "code",
   "execution_count": 6,
   "id": "c9c8cf6b-ec4b-4754-8c9a-9fd4a88bbc91",
   "metadata": {},
   "outputs": [
    {
     "name": "stdout",
     "output_type": "stream",
     "text": [
      "Requests in queue: 0\n"
     ]
    }
   ],
   "source": [
    "print(f\"Requests in queue: {len(queued_users)}\")"
   ]
  },
  {
   "cell_type": "code",
   "execution_count": 7,
   "id": "2504a0e5-28b3-4f72-b574-e48c909a40d9",
   "metadata": {},
   "outputs": [],
   "source": [
    "failed_users = []\n",
    "\n",
    "if queued_users:\n",
    "    time.sleep(SLEEP_BEFORE_QUEUE)\n",
    "    for user in queued_users:\n",
    "        request_collection_of_user(user, failed_users)"
   ]
  },
  {
   "cell_type": "code",
   "execution_count": 8,
   "id": "1361417f-0c65-4fe2-a92b-27721e196bbb",
   "metadata": {},
   "outputs": [],
   "source": [
    "assert not failed_users  # We shouldn't have any failed requests (happy path)"
   ]
  },
  {
   "cell_type": "markdown",
   "id": "365323e9-7fa9-4a64-97fc-036a754b5bc8",
   "metadata": {},
   "source": [
    "## Parsing the XML"
   ]
  },
  {
   "cell_type": "code",
   "execution_count": 9,
   "id": "de8e5876-2569-4c5c-921a-38a1db753934",
   "metadata": {},
   "outputs": [],
   "source": [
    "xml_file = f'./raw_data/collection/{user}.xml'\n",
    "\n",
    "with open(xml_file, 'r') as f:\n",
    "    r_text = f.read()\n",
    "    root = ET.fromstring(r_text)"
   ]
  },
  {
   "cell_type": "code",
   "execution_count": 10,
   "id": "753351e4-91fb-42da-8dcb-9de6bd2aea07",
   "metadata": {},
   "outputs": [
    {
     "name": "stdout",
     "output_type": "stream",
     "text": [
      "Architekton N/A 2005 7044466 16499\n",
      "Australian Rails N/A 1994 7044566 935\n",
      "Big Boggle N/A 1979 7276794 10550\n",
      "Boggle Bowl N/A 1987 7276793 2495\n",
      "British Rails N/A 1984 7044579 2689\n",
      "Carcassonne N/A 2000 7276771 822\n",
      "Carcassonne: Expansion 1 – Inns & Cathedrals N/A 2002 7276774 2993\n",
      "Carcassonne: Expansion 2 – Traders & Builders N/A 2003 7276775 5405\n",
      "Carcassonne: Expansion 3 – The Princess & The Dragon N/A 2005 7276780 15158\n",
      "Carcassonne: Expansion 4 – The Tower N/A 2006 7276776 21385\n",
      "Carcassonne: Expansion 5 – Abbey & Mayor N/A 2007 7276778 31784\n",
      "Carcassonne: GQ Promo Tiles N/A 2006 7271479 26615\n",
      "Carcassonne: Hunters and Gatherers N/A 2002 7276765 4390\n",
      "Carcassonne: King & Scout N/A 2003 7276781 7707\n",
      "Carcassonne: The Castle N/A 2003 7276768 7717\n",
      "Carcassonne: The Count of Carcassonne N/A 2004 7276769 12903\n",
      "Carcassonne: The River N/A 2001 7278118 2591\n",
      "Carcassonne: The River II N/A 2005 7276770 18836\n",
      "CATAN N/A 1995 7049980 13\n",
      "CATAN N/A 1995 7276748 13\n",
      "Catan Card Game N/A 1996 7271474 278\n",
      "CATAN: Cities & Knights N/A 1998 7276756 926\n",
      "Catan: Event Cards N/A 2005 7267536 20038\n",
      "CATAN: Seafarers N/A 1997 7276760 325\n",
      "China Rails N/A 2007 7044582 23919\n",
      "Christian Fluxx N/A 2006 7049975 24158\n",
      "The Difference Between Women & Men N/A 2005 7044484 16355\n",
      "Empire Builder N/A 1982 7162594 168\n",
      "Eurorails N/A 1990 7044461 157\n",
      "Fluxx N/A 1997 7049976 258\n",
      "Guatemala Café N/A 2006 7264731 23053\n",
      "India Rails N/A 1998 7044590 2455\n",
      "Iron Dragon N/A 1994 7044564 130\n",
      "Jewish Fluxx N/A 2006 7049977 24159\n",
      "Lunar Rails N/A 2003 7044592 6663\n",
      "Masons N/A 2006 7264729 21791\n",
      "Monopoly: Collector's Tin Car N/A 2001 7048979 10201\n",
      "Monopoly: Deluxe Edition N/A 1995 7048989 7098\n",
      "Monopoly: Star Wars Limited Collector's Edition N/A 1996 7048996 26696\n",
      "Monopoly: The .com Edition N/A 2000 7048975 2929\n",
      "Munchkin N/A 2001 7271476 1927\n",
      "Munchkin Blender N/A 2004 7271478 11058\n",
      "Munchkin Fu N/A 2003 7271477 6607\n",
      "Nature Fluxx N/A 2005 7044500 18333\n",
      "Nature Trail Game N/A 2005 7271470 22261\n",
      "New World: A Carcassonne Game N/A 2008 7267529 34615\n",
      "Nippon Rails N/A 1992 7044593 1830\n",
      "Rat Hot N/A 2005 7044470 16497\n",
      "Risk N/A 1959 7271471 181\n",
      "Royal Visit N/A 2006 7048946 22245\n",
      "Russian Rails N/A 2004 7044597 9617\n",
      "Skip-Bo N/A 1967 7271472 1269\n",
      "Starship Catan N/A 2001 7271475 2338\n",
      "Super Scrabble N/A 2004 7276790 11182\n",
      "Ticket to Ride: Nordic Countries N/A 2007 7276733 31627\n",
      "Upwords N/A 1982 7271489 1515\n",
      "Xanth N/A 1991 7044413 4470\n",
      "Zombie Fluxx N/A 2007 7049978 29387\n"
     ]
    }
   ],
   "source": [
    "for bg in root:\n",
    "    bg_name = bg[0].text\n",
    "    coll_id = bg.attrib['collid']  # I don't really know what this is, but I guess it is the id of this instance of the boardgame in the list\n",
    "    object_id = bg.attrib['objectid']  # This is the boardgame identifier\n",
    "\n",
    "    for field in bg:\n",
    "        if field.tag == 'stats':\n",
    "            rating_val = field[0].attrib['value']\n",
    "        if field.tag == 'yearpublished':\n",
    "            year_published = field.text\n",
    "            # break\n",
    "\n",
    "    print(bg_name, rating_val, year_published, coll_id, object_id)"
   ]
  },
  {
   "cell_type": "markdown",
   "id": "35f9bd01-93cf-4e5d-9eb1-c4bb1f3055ef",
   "metadata": {},
   "source": [
    "# Comments"
   ]
  },
  {
   "cell_type": "markdown",
   "id": "d99755c5-8d01-42c0-a770-4c60b02aa4e8",
   "metadata": {},
   "source": [
    "- It is possible to have two repeated games in a user's list.\n",
    "    - Check `eekspider`'s `CATAN` game."
   ]
  }
 ],
 "metadata": {
  "kernelspec": {
   "display_name": "Python 3 (ipykernel)",
   "language": "python",
   "name": "python3"
  },
  "language_info": {
   "codemirror_mode": {
    "name": "ipython",
    "version": 3
   },
   "file_extension": ".py",
   "mimetype": "text/x-python",
   "name": "python",
   "nbconvert_exporter": "python",
   "pygments_lexer": "ipython3",
   "version": "3.11.2"
  }
 },
 "nbformat": 4,
 "nbformat_minor": 5
}
